{
 "cells": [
  {
   "cell_type": "markdown",
   "metadata": {},
   "source": [
    "# Problem 2: Voters in Florida\n",
    "### Here, data for different county names along with it's republic and democratic voters was extracted from a HTML file. Voter data was then converted to numeric format and sorted on the basis of democratic voters. Function find_data() was used to find county names by looking for a specific pattern within the file. \n",
    "#### Group members: Daxi Cheng, Tomas Fernandez, McKenna Karnes, Lufang Liu, Charvi Mittal (Group# 14)"
   ]
  },
  {
   "cell_type": "code",
   "execution_count": 1,
   "metadata": {
    "collapsed": true
   },
   "outputs": [],
   "source": [
    "##### Initializations\n",
    "\n",
    "import re #### library import\n",
    "fp = open('FloridaVoters.html','r') ### reads the HTML file\n",
    "line = fp.readline() ### to read firstline of the file\n",
    "final_data = []"
   ]
  },
  {
   "cell_type": "code",
   "execution_count": 3,
   "metadata": {
    "collapsed": true
   },
   "outputs": [],
   "source": [
    "#### Function definition\n",
    "def find_data(s):\n",
    "    \"\"\" This function is used to find instances in the HTML file where county name is.\n",
    "    It returns empty list wherever string does not match given pattern\"\"\"\n",
    "    return re.findall('<td>[A-Z][A-Z][A-Z]',s)"
   ]
  },
  {
   "cell_type": "code",
   "execution_count": 4,
   "metadata": {
    "collapsed": true
   },
   "outputs": [],
   "source": [
    "#### This loops through entire file to find countyname along with republic and democratic voters. It then strips them to obtain data\n",
    "### in required format\n",
    "\n",
    "while line is not '':\n",
    "    ### function call to find line with county name\n",
    "    req_line = find_data(line)\n",
    "    ### condition to go to line with county name\n",
    "    if req_line != []:\n",
    "       ### strips string to obtain the name\n",
    "       countyname = line.lstrip('<td>').rstrip().rstrip('</td>')\n",
    "       ### read next line to obtain republic voters \n",
    "       republicvoters = fp.readline().lstrip('<td>').rstrip().rstrip('</td>')\n",
    "       ### remove commas to convert string to number \n",
    "       republicvoters =  int(republicvoters.replace(',',''))\n",
    "       democratvoters = fp.readline().lstrip('<td>').rstrip().rstrip('</td>')\n",
    "       democratvoters =  int(democratvoters.replace(',',''))\n",
    "       #### create a list out of the obtained values and append the entire data together \n",
    "       data = (countyname, republicvoters, democratvoters)\n",
    "       final_data.append(data)\n",
    "    ### read next line\n",
    "    line = fp.readline()\n",
    "\n"
   ]
  },
  {
   "cell_type": "code",
   "execution_count": 5,
   "metadata": {},
   "outputs": [
    {
     "name": "stdout",
     "output_type": "stream",
     "text": [
      "LAFAYETTE 1373 2672\n",
      "GLADES 2190 3110\n",
      "LIBERTY 720 3372\n",
      "UNION 2752 3579\n",
      "GILCHRIST 5789 3652\n",
      "FRANKLIN 2234 4319\n",
      "HOLMES 5282 4434\n",
      "GULF 4234 4521\n",
      "HARDEE 4859 4702\n",
      "HAMILTON 2154 4796\n",
      "DIXIE 3314 4839\n",
      "CALHOUN 2201 5324\n",
      "WASHINGTON 7101 5687\n",
      "JEFFERSON 2636 5802\n",
      "BAKER 6963 5813\n",
      "BRADFORD 6878 6533\n",
      "TAYLOR 3950 6915\n",
      "MADISON 2992 7158\n",
      "DESOTO 4870 7181\n",
      "OKEECHOBEE 7755 7756\n",
      "HENDRY 5862 7999\n",
      "WAKULLA 7374 8889\n",
      "LEVY 11665 9509\n",
      "WALTON 25609 10013\n",
      "SUWANNEE 10745 11126\n",
      "NASSAU 32958 14013\n",
      "COLUMBIA 15790 14797\n",
      "JACKSON 9626 15706\n",
      "MONROE 20602 17614\n",
      "HIGHLANDS 27100 19997\n",
      "PUTNAM 17067 20606\n",
      "GADSDEN 4372 22161\n",
      "SUMTER 47158 22977\n",
      "FLAGLER 30047 24734\n",
      "OKALOOSA 75154 25172\n",
      "SANTA ROSA 73627 26114\n",
      "MARTIN 53800 27358\n",
      "INDIAN RIVER 47794 28204\n",
      "CITRUS 46373 30440\n",
      "BAY 57456 30733\n",
      "CLAY 76584 31285\n",
      "CHARLOTTE 54421 35602\n",
      "HERNANDO 51254 42499\n",
      "COLLIER 100167 45511\n",
      "LAKE 93604 67237\n",
      "MANATEE 96063 67926\n",
      "ESCAMBIA 90265 70180\n",
      "OSCEOLA 44594 75657\n",
      "MARION 97306 76268\n",
      "ALACHUA 47329 77996\n",
      "SARASOTA 125872 89711\n",
      "SEMINOLE 107833 91686\n",
      "LEON 54554 103140\n",
      "PASCO 125305 104324\n",
      "LEE 180718 114633\n",
      "VOLUSIA 121402 124136\n",
      "BREVARD 167129 127435\n",
      "POLK 140619 143799\n",
      "PINELLAS 223077 221968\n",
      "DUVAL 210195 229501\n",
      "ORANGE 206174 303458\n",
      "HILLSBOROUGH 257436 314265\n",
      "PALM BEACH 245452 367236\n",
      "MIAMI-DADE 362161 539367\n",
      "BROWARD 249762 566185\n"
     ]
    }
   ],
   "source": [
    "#### This sorts the final data on the basis of democratic voters\n",
    "sorted_data = sorted(final_data,key = lambda x: x[2])    \n",
    "\n",
    "#### This is used to print sorted data in required format\n",
    "for data in sorted_data:\n",
    "    print data[0], data[1], data[2]\n",
    "    \n",
    "### Closes the file\n",
    "fp.close()"
   ]
  }
 ],
 "metadata": {
  "anaconda-cloud": {},
  "kernelspec": {
   "display_name": "Python [default]",
   "language": "python",
   "name": "python2"
  },
  "language_info": {
   "codemirror_mode": {
    "name": "ipython",
    "version": 2
   },
   "file_extension": ".py",
   "mimetype": "text/x-python",
   "name": "python",
   "nbconvert_exporter": "python",
   "pygments_lexer": "ipython2",
   "version": "2.7.13"
  }
 },
 "nbformat": 4,
 "nbformat_minor": 2
}
