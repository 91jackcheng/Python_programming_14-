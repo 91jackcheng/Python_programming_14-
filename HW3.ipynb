{
 "cells": [
  {
   "cell_type": "markdown",
   "metadata": {},
   "source": [
    "#  <center> Homework 3 </center>\n",
    "## <center> Daxi Cheng, Tomas Fernandez, Yanbin Kang </center> "
   ]
  },
  {
   "cell_type": "code",
   "execution_count": 1,
   "metadata": {},
   "outputs": [
    {
     "name": "stdout",
     "output_type": "stream",
     "text": [
      "Populating the interactive namespace from numpy and matplotlib\n"
     ]
    }
   ],
   "source": [
    "from pandas import Series, DataFrame\n",
    "import pandas as pd\n",
    "%pylab inline"
   ]
  },
  {
   "cell_type": "markdown",
   "metadata": {},
   "source": [
    "# Question 1: Read in data\n",
    "* We used the tab as a seperator."
   ]
  },
  {
   "cell_type": "code",
   "execution_count": 2,
   "metadata": {
    "collapsed": true
   },
   "outputs": [],
   "source": [
    "gold = pd.read_csv('gold.txt',\n",
    "                      sep='\\t',      # use tab separator\n",
    "                      header=None,   # do not use the first line as a header\n",
    "                      names=['url', 'category'])\n",
    "labels = pd.read_csv('labels.txt',\n",
    "                      sep='\\t',      # use tab separator\n",
    "                      header=None,   # do not use the first line as a header\n",
    "                      names=['turk','url', 'category'])"
   ]
  },
  {
   "cell_type": "markdown",
   "metadata": {},
   "source": [
    "# Question 2:  Split into two DataFrames\n",
    "* We created a mask to measure if it is in gold"
   ]
  },
  {
   "cell_type": "code",
   "execution_count": 3,
   "metadata": {
    "collapsed": true
   },
   "outputs": [],
   "source": [
    "mask_in_gold= labels['url'].isin(gold['url'])\n",
    "labels_on_gold=labels[mask_in_gold].drop_duplicates()\n",
    "labels_unknown=labels[~mask_in_gold].drop_duplicates()"
   ]
  },
  {
   "cell_type": "markdown",
   "metadata": {},
   "source": [
    "# Question 3: Compute accuracies of turks\n",
    "* Here we compute the accuracy rate of each turk by comparing their results to the gold set using a conditional assignment."
   ]
  },
  {
   "cell_type": "code",
   "execution_count": 4,
   "metadata": {
    "collapsed": true
   },
   "outputs": [],
   "source": [
    "turk_gold_df=labels_on_gold.merge(gold, left_on='url', right_on='url',suffixes=['-turk','-gold'])\n",
    "turk_gold_df['correct']=turk_gold_df['category-gold']==turk_gold_df['category-turk']"
   ]
  },
  {
   "cell_type": "code",
   "execution_count": 5,
   "metadata": {
    "collapsed": true
   },
   "outputs": [],
   "source": [
    "rate_correctness=DataFrame(turk_gold_df.groupby(['turk'])['correct'].mean())\n",
    "rate_count=DataFrame(turk_gold_df.groupby(['turk'])['category-turk'].count())\n",
    "rate_correctness['turk']=rate_correctness.index\n",
    "rate_count['turk']=rate_count.index"
   ]
  },
  {
   "cell_type": "code",
   "execution_count": 6,
   "metadata": {
    "collapsed": true
   },
   "outputs": [],
   "source": [
    "rater_goodness=pd.merge(rate_correctness,rate_count)\n",
    "rater_goodness['number of ratings']=rater_goodness['category-turk']\n",
    "rater_goodness['average correctness']=rater_goodness['correct']\n",
    "rater_goodness.index=rater_goodness['turk']\n",
    "rater_goodness=rater_goodness[['number of ratings','average correctness']]\n"
   ]
  },
  {
   "cell_type": "markdown",
   "metadata": {},
   "source": [
    "# Question 4: Odds ratios\n",
    "* Here we calculate the odds ratios."
   ]
  },
  {
   "cell_type": "code",
   "execution_count": 7,
   "metadata": {
    "collapsed": true
   },
   "outputs": [],
   "source": [
    "def count_odd(p):\n",
    "    odd=p*1.0/(1.001-p)\n",
    "    return odd\n",
    "rater_goodness['odds']=rater_goodness['average correctness'].apply(count_odd)"
   ]
  },
  {
   "cell_type": "markdown",
   "metadata": {},
   "source": [
    "# Question 5:  Most accurate turks\n",
    "* We use a mask to filter out the turks with at least 20 rates.\n",
    "* Then, we list out the mose accurate turks by sort function."
   ]
  },
  {
   "cell_type": "code",
   "execution_count": 8,
   "metadata": {},
   "outputs": [
    {
     "data": {
      "text/html": [
       "<div>\n",
       "<style>\n",
       "    .dataframe thead tr:only-child th {\n",
       "        text-align: right;\n",
       "    }\n",
       "\n",
       "    .dataframe thead th {\n",
       "        text-align: left;\n",
       "    }\n",
       "\n",
       "    .dataframe tbody tr th {\n",
       "        vertical-align: top;\n",
       "    }\n",
       "</style>\n",
       "<table border=\"1\" class=\"dataframe\">\n",
       "  <thead>\n",
       "    <tr style=\"text-align: right;\">\n",
       "      <th></th>\n",
       "      <th>turk</th>\n",
       "    </tr>\n",
       "  </thead>\n",
       "  <tbody>\n",
       "    <tr>\n",
       "      <th>0</th>\n",
       "      <td>A2U0R4X38GUKZE</td>\n",
       "    </tr>\n",
       "    <tr>\n",
       "      <th>1</th>\n",
       "      <td>A22C0PJUBFJTI0</td>\n",
       "    </tr>\n",
       "    <tr>\n",
       "      <th>2</th>\n",
       "      <td>A23YQUBXZPKILZ</td>\n",
       "    </tr>\n",
       "    <tr>\n",
       "      <th>3</th>\n",
       "      <td>ATVALOQVDCMZW</td>\n",
       "    </tr>\n",
       "    <tr>\n",
       "      <th>4</th>\n",
       "      <td>A1HIXWH4OXT8S4</td>\n",
       "    </tr>\n",
       "    <tr>\n",
       "      <th>5</th>\n",
       "      <td>A3220HG1O83HQ4</td>\n",
       "    </tr>\n",
       "    <tr>\n",
       "      <th>6</th>\n",
       "      <td>A32W20KGQXS0LL</td>\n",
       "    </tr>\n",
       "    <tr>\n",
       "      <th>7</th>\n",
       "      <td>A20PWAB7G3HDHU</td>\n",
       "    </tr>\n",
       "    <tr>\n",
       "      <th>8</th>\n",
       "      <td>AJSJVK40F5HM6</td>\n",
       "    </tr>\n",
       "    <tr>\n",
       "      <th>9</th>\n",
       "      <td>A31OCN4MNHUQ6W</td>\n",
       "    </tr>\n",
       "    <tr>\n",
       "      <th>10</th>\n",
       "      <td>A3MA9V9UPGCOK7</td>\n",
       "    </tr>\n",
       "    <tr>\n",
       "      <th>11</th>\n",
       "      <td>A3IP9KYNZZ028B</td>\n",
       "    </tr>\n",
       "    <tr>\n",
       "      <th>12</th>\n",
       "      <td>A3477QYMFXUC4I</td>\n",
       "    </tr>\n",
       "    <tr>\n",
       "      <th>13</th>\n",
       "      <td>A1JTOT0DWM6QGL</td>\n",
       "    </tr>\n",
       "    <tr>\n",
       "      <th>14</th>\n",
       "      <td>AVWJPWUEE3U4Q</td>\n",
       "    </tr>\n",
       "    <tr>\n",
       "      <th>15</th>\n",
       "      <td>A25CRC4AZY5KC1</td>\n",
       "    </tr>\n",
       "    <tr>\n",
       "      <th>16</th>\n",
       "      <td>A12RE8G66WTO8B</td>\n",
       "    </tr>\n",
       "    <tr>\n",
       "      <th>17</th>\n",
       "      <td>A35GER5TWMH9VP</td>\n",
       "    </tr>\n",
       "    <tr>\n",
       "      <th>18</th>\n",
       "      <td>APYV9Y0DFZFVP</td>\n",
       "    </tr>\n",
       "    <tr>\n",
       "      <th>19</th>\n",
       "      <td>A153PKAL7OAY36</td>\n",
       "    </tr>\n",
       "  </tbody>\n",
       "</table>\n",
       "</div>"
      ],
      "text/plain": [
       "              turk\n",
       "0   A2U0R4X38GUKZE\n",
       "1   A22C0PJUBFJTI0\n",
       "2   A23YQUBXZPKILZ\n",
       "3    ATVALOQVDCMZW\n",
       "4   A1HIXWH4OXT8S4\n",
       "5   A3220HG1O83HQ4\n",
       "6   A32W20KGQXS0LL\n",
       "7   A20PWAB7G3HDHU\n",
       "8    AJSJVK40F5HM6\n",
       "9   A31OCN4MNHUQ6W\n",
       "10  A3MA9V9UPGCOK7\n",
       "11  A3IP9KYNZZ028B\n",
       "12  A3477QYMFXUC4I\n",
       "13  A1JTOT0DWM6QGL\n",
       "14   AVWJPWUEE3U4Q\n",
       "15  A25CRC4AZY5KC1\n",
       "16  A12RE8G66WTO8B\n",
       "17  A35GER5TWMH9VP\n",
       "18   APYV9Y0DFZFVP\n",
       "19  A153PKAL7OAY36"
      ]
     },
     "execution_count": 8,
     "metadata": {},
     "output_type": "execute_result"
    }
   ],
   "source": [
    "mask_rate_20=rater_goodness['number of ratings']>=20\n",
    "more_than_20_df=rater_goodness[mask_rate_20]\n",
    "DataFrame(more_than_20_df.sort_values(by='odds',ascending= False)[:20].index)"
   ]
  },
  {
   "cell_type": "markdown",
   "metadata": {},
   "source": [
    "# Question 6: Rating counts versus accuracy\n",
    "* Here we perform a simple linear regression to see if there is a significant relationship."
   ]
  },
  {
   "cell_type": "code",
   "execution_count": 9,
   "metadata": {},
   "outputs": [
    {
     "name": "stderr",
     "output_type": "stream",
     "text": [
      "/Users/Jack/anaconda/lib/python2.7/site-packages/statsmodels/compat/pandas.py:56: FutureWarning: The pandas.core.datetools module is deprecated and will be removed in a future version. Please use the pandas.tseries module instead.\n",
      "  from pandas.core import datetools\n"
     ]
    }
   ],
   "source": [
    "import statsmodels.api as sm\n",
    "from patsy import dmatrices"
   ]
  },
  {
   "cell_type": "code",
   "execution_count": 10,
   "metadata": {},
   "outputs": [
    {
     "name": "stdout",
     "output_type": "stream",
     "text": [
      "                            OLS Regression Results                            \n",
      "==============================================================================\n",
      "Dep. Variable:                   odds   R-squared:                       0.091\n",
      "Model:                            OLS   Adj. R-squared:                  0.088\n",
      "Method:                 Least Squares   F-statistic:                     26.77\n",
      "Date:                Tue, 08 Aug 2017   Prob (F-statistic):           4.52e-07\n",
      "Time:                        22:37:18   Log-Likelihood:                -2019.6\n",
      "No. Observations:                 269   AIC:                             4043.\n",
      "Df Residuals:                     267   BIC:                             4050.\n",
      "Df Model:                           1                                         \n",
      "Covariance Type:            nonrobust                                         \n",
      "==============================================================================\n",
      "                 coef    std err          t      P>|t|      [0.025      0.975]\n",
      "------------------------------------------------------------------------------\n",
      "Intercept    386.5694     30.441     12.699      0.000     326.635     446.504\n",
      "num           -5.9083      1.142     -5.174      0.000      -8.157      -3.660\n",
      "==============================================================================\n",
      "Omnibus:                       15.826   Durbin-Watson:                   2.147\n",
      "Prob(Omnibus):                  0.000   Jarque-Bera (JB):               42.343\n",
      "Skew:                           0.625   Prob(JB):                     6.39e-10\n",
      "Kurtosis:                       1.511   Cond. No.                         30.1\n",
      "==============================================================================\n",
      "\n",
      "Warnings:\n",
      "[1] Standard Errors assume that the covariance matrix of the errors is correctly specified.\n"
     ]
    }
   ],
   "source": [
    "rater_goodness['num']=rater_goodness['number of ratings']\n",
    "y, X=dmatrices('odds~num',data= rater_goodness,return_type='dataframe')\n",
    "model=sm.OLS(y, X)\n",
    "result=model.fit()\n",
    "print result.summary()"
   ]
  },
  {
   "cell_type": "markdown",
   "metadata": {},
   "source": [
    "*  As we can see, there is a negative relationship here. This indicates that when turks rate more, they tend to become less accurate."
   ]
  },
  {
   "cell_type": "markdown",
   "metadata": {},
   "source": [
    "# Question 7: Overall predicted odds\n",
    "* First, we create a list of the turks that rated more gold set urls than the other 75% of turks.\n",
    "* We then merge the rate record with the more than 75% turks of rater to get odds.\n",
    "* Finally, we groupby url and category to calculate the product of odds."
   ]
  },
  {
   "cell_type": "code",
   "execution_count": 9,
   "metadata": {
    "collapsed": true
   },
   "outputs": [],
   "source": [
    "rater_goodness['turk']=rater_goodness.index\n",
    "mask_75=rater_goodness['number of ratings']>rater_goodness['number of ratings'].quantile(0.75)\n",
    "more_75_turks_df=rater_goodness[mask_75]\n",
    "labels_with_odds=labels_unknown.merge(more_75_turks_df,left_on='turk',right_on='turk')\n",
    "overall_odds=DataFrame(labels_with_odds.groupby(['url','category'])['odds'].prod())"
   ]
  },
  {
   "cell_type": "markdown",
   "metadata": {},
   "source": [
    "# Question 8: Predicted categories\n",
    "* We find out the max odds and category from the dataframe we got in question 7.\n",
    "* Then, we combine these statistics into one data frame and only extract the columns we want."
   ]
  },
  {
   "cell_type": "code",
   "execution_count": 10,
   "metadata": {
    "collapsed": true
   },
   "outputs": [],
   "source": [
    "top_cat_df=DataFrame(overall_odds.unstack('category')['odds'].T.idxmax())\n",
    "top_odds_df=DataFrame(overall_odds.unstack('category')['odds'].T.max())\n",
    "top_cat_df['url']=top_cat_df.index\n",
    "top_odds_df['url']=top_odds_df.index\n",
    "cat_odds=top_cat_df.merge(top_odds_df,left_on='url',right_on='url')\n",
    "cat_odds['top category']=cat_odds['0_x']\n",
    "cat_odds['top odds']=cat_odds['0_y']\n",
    "result_75=cat_odds[['url','top category','top odds']]"
   ]
  },
  {
   "cell_type": "code",
   "execution_count": 11,
   "metadata": {},
   "outputs": [
    {
     "data": {
      "text/html": [
       "<div>\n",
       "<style>\n",
       "    .dataframe thead tr:only-child th {\n",
       "        text-align: right;\n",
       "    }\n",
       "\n",
       "    .dataframe thead th {\n",
       "        text-align: left;\n",
       "    }\n",
       "\n",
       "    .dataframe tbody tr th {\n",
       "        vertical-align: top;\n",
       "    }\n",
       "</style>\n",
       "<table border=\"1\" class=\"dataframe\">\n",
       "  <thead>\n",
       "    <tr style=\"text-align: right;\">\n",
       "      <th></th>\n",
       "      <th>url</th>\n",
       "      <th>top category</th>\n",
       "      <th>top odds</th>\n",
       "    </tr>\n",
       "  </thead>\n",
       "  <tbody>\n",
       "    <tr>\n",
       "      <th>0</th>\n",
       "      <td>http://0-101.net</td>\n",
       "      <td>G</td>\n",
       "      <td>2.297602</td>\n",
       "    </tr>\n",
       "    <tr>\n",
       "      <th>1</th>\n",
       "      <td>http://000.cc</td>\n",
       "      <td>G</td>\n",
       "      <td>1.485456</td>\n",
       "    </tr>\n",
       "    <tr>\n",
       "      <th>2</th>\n",
       "      <td>http://0000.jp</td>\n",
       "      <td>G</td>\n",
       "      <td>14.339248</td>\n",
       "    </tr>\n",
       "    <tr>\n",
       "      <th>3</th>\n",
       "      <td>http://000relationships.com</td>\n",
       "      <td>G</td>\n",
       "      <td>3.841962</td>\n",
       "    </tr>\n",
       "    <tr>\n",
       "      <th>4</th>\n",
       "      <td>http://000vitamins.com</td>\n",
       "      <td>G</td>\n",
       "      <td>4.033641</td>\n",
       "    </tr>\n",
       "    <tr>\n",
       "      <th>5</th>\n",
       "      <td>http://000webhost.com</td>\n",
       "      <td>G</td>\n",
       "      <td>11.892639</td>\n",
       "    </tr>\n",
       "    <tr>\n",
       "      <th>6</th>\n",
       "      <td>http://003my.com</td>\n",
       "      <td>G</td>\n",
       "      <td>4.861524</td>\n",
       "    </tr>\n",
       "    <tr>\n",
       "      <th>7</th>\n",
       "      <td>http://007absolutehardcore.com/early_cumshots/...</td>\n",
       "      <td>X</td>\n",
       "      <td>293.252871</td>\n",
       "    </tr>\n",
       "    <tr>\n",
       "      <th>8</th>\n",
       "      <td>http://007swz.cn</td>\n",
       "      <td>G</td>\n",
       "      <td>1.485456</td>\n",
       "    </tr>\n",
       "    <tr>\n",
       "      <th>9</th>\n",
       "      <td>http://01768.com</td>\n",
       "      <td>G</td>\n",
       "      <td>1.485456</td>\n",
       "    </tr>\n",
       "  </tbody>\n",
       "</table>\n",
       "</div>"
      ],
      "text/plain": [
       "                                                 url top category    top odds\n",
       "0                                   http://0-101.net            G    2.297602\n",
       "1                                      http://000.cc            G    1.485456\n",
       "2                                     http://0000.jp            G   14.339248\n",
       "3                        http://000relationships.com            G    3.841962\n",
       "4                             http://000vitamins.com            G    4.033641\n",
       "5                              http://000webhost.com            G   11.892639\n",
       "6                                   http://003my.com            G    4.861524\n",
       "7  http://007absolutehardcore.com/early_cumshots/...            X  293.252871\n",
       "8                                   http://007swz.cn            G    1.485456\n",
       "9                                   http://01768.com            G    1.485456"
      ]
     },
     "execution_count": 11,
     "metadata": {},
     "output_type": "execute_result"
    }
   ],
   "source": [
    "result_75[:10]"
   ]
  },
  {
   "cell_type": "markdown",
   "metadata": {},
   "source": [
    "# Question 9: Predicted categories using more turks\n",
    "* First, we repeat the process of question 7 and 8, but change the 75% to 25% to get resutl_25.\n",
    "* Then, we merge them together to get a total result.\n",
    "* We cross tab the total result to find out where the most errors are."
   ]
  },
  {
   "cell_type": "code",
   "execution_count": 13,
   "metadata": {
    "collapsed": true
   },
   "outputs": [],
   "source": [
    "mask_25=rater_goodness['number of ratings']>rater_goodness['number of ratings'].quantile(0.25)\n",
    "more_25_turks_df=rater_goodness[mask_25]\n",
    "labels_with_odds=labels_unknown.merge(more_25_turks_df,left_on='turk',right_on='turk')\n",
    "overall_odds_25=DataFrame(labels_with_odds.groupby(['url','category'])['odds'].prod())"
   ]
  },
  {
   "cell_type": "code",
   "execution_count": 14,
   "metadata": {
    "collapsed": true
   },
   "outputs": [],
   "source": [
    "top_cat_df=DataFrame(overall_odds_25.unstack('category')['odds'].T.idxmax())\n",
    "top_odds_df=DataFrame(overall_odds_25.unstack('category')['odds'].T.max())\n",
    "top_cat_df['url']=top_cat_df.index\n",
    "top_odds_df['url']=top_odds_df.index\n",
    "cat_odds=top_cat_df.merge(top_odds_df,left_on='url',right_on='url')\n",
    "cat_odds['top category']=cat_odds['0_x']\n",
    "cat_odds['top odds']=cat_odds['0_y']\n",
    "result_25=cat_odds[['url','top category','top odds']]"
   ]
  },
  {
   "cell_type": "code",
   "execution_count": 15,
   "metadata": {
    "collapsed": true
   },
   "outputs": [],
   "source": [
    "result_25.index=result_25['url']\n",
    "result_75.index=result_75['url']"
   ]
  },
  {
   "cell_type": "code",
   "execution_count": 16,
   "metadata": {
    "collapsed": true
   },
   "outputs": [],
   "source": [
    "total_result=result_25.merge(result_75,left_on='url',right_on='url',suffixes=['_25','_75'])\n",
    "error_pd=pd.crosstab(total_result['top category_25'],total_result['top category_75'],margins=True)\n"
   ]
  },
  {
   "cell_type": "code",
   "execution_count": 17,
   "metadata": {},
   "outputs": [
    {
     "data": {
      "text/html": [
       "<div>\n",
       "<style>\n",
       "    .dataframe thead tr:only-child th {\n",
       "        text-align: right;\n",
       "    }\n",
       "\n",
       "    .dataframe thead th {\n",
       "        text-align: left;\n",
       "    }\n",
       "\n",
       "    .dataframe tbody tr th {\n",
       "        vertical-align: top;\n",
       "    }\n",
       "</style>\n",
       "<table border=\"1\" class=\"dataframe\">\n",
       "  <thead>\n",
       "    <tr style=\"text-align: right;\">\n",
       "      <th>top category_75</th>\n",
       "      <th>G</th>\n",
       "      <th>P</th>\n",
       "      <th>R</th>\n",
       "      <th>X</th>\n",
       "      <th>All</th>\n",
       "    </tr>\n",
       "    <tr>\n",
       "      <th>top category_25</th>\n",
       "      <th></th>\n",
       "      <th></th>\n",
       "      <th></th>\n",
       "      <th></th>\n",
       "      <th></th>\n",
       "    </tr>\n",
       "  </thead>\n",
       "  <tbody>\n",
       "    <tr>\n",
       "      <th>G</th>\n",
       "      <td>8280</td>\n",
       "      <td>196</td>\n",
       "      <td>22</td>\n",
       "      <td>28</td>\n",
       "      <td>8526</td>\n",
       "    </tr>\n",
       "    <tr>\n",
       "      <th>P</th>\n",
       "      <td>586</td>\n",
       "      <td>352</td>\n",
       "      <td>34</td>\n",
       "      <td>5</td>\n",
       "      <td>977</td>\n",
       "    </tr>\n",
       "    <tr>\n",
       "      <th>R</th>\n",
       "      <td>180</td>\n",
       "      <td>52</td>\n",
       "      <td>127</td>\n",
       "      <td>28</td>\n",
       "      <td>387</td>\n",
       "    </tr>\n",
       "    <tr>\n",
       "      <th>X</th>\n",
       "      <td>214</td>\n",
       "      <td>25</td>\n",
       "      <td>25</td>\n",
       "      <td>456</td>\n",
       "      <td>720</td>\n",
       "    </tr>\n",
       "    <tr>\n",
       "      <th>All</th>\n",
       "      <td>9260</td>\n",
       "      <td>625</td>\n",
       "      <td>208</td>\n",
       "      <td>517</td>\n",
       "      <td>10610</td>\n",
       "    </tr>\n",
       "  </tbody>\n",
       "</table>\n",
       "</div>"
      ],
      "text/plain": [
       "top category_75     G    P    R    X    All\n",
       "top category_25                            \n",
       "G                8280  196   22   28   8526\n",
       "P                 586  352   34    5    977\n",
       "R                 180   52  127   28    387\n",
       "X                 214   25   25  456    720\n",
       "All              9260  625  208  517  10610"
      ]
     },
     "execution_count": 17,
     "metadata": {},
     "output_type": "execute_result"
    }
   ],
   "source": [
    "error_pd"
   ]
  },
  {
   "cell_type": "code",
   "execution_count": 18,
   "metadata": {
    "collapsed": true
   },
   "outputs": [],
   "source": [
    "error_pd=pd.crosstab(total_result['top category_25'],total_result['top category_75'],normalize=True)"
   ]
  },
  {
   "cell_type": "code",
   "execution_count": 19,
   "metadata": {},
   "outputs": [
    {
     "data": {
      "text/html": [
       "<div>\n",
       "<style>\n",
       "    .dataframe thead tr:only-child th {\n",
       "        text-align: right;\n",
       "    }\n",
       "\n",
       "    .dataframe thead th {\n",
       "        text-align: left;\n",
       "    }\n",
       "\n",
       "    .dataframe tbody tr th {\n",
       "        vertical-align: top;\n",
       "    }\n",
       "</style>\n",
       "<table border=\"1\" class=\"dataframe\">\n",
       "  <thead>\n",
       "    <tr style=\"text-align: right;\">\n",
       "      <th>top category_75</th>\n",
       "      <th>G</th>\n",
       "      <th>P</th>\n",
       "      <th>R</th>\n",
       "      <th>X</th>\n",
       "    </tr>\n",
       "    <tr>\n",
       "      <th>top category_25</th>\n",
       "      <th></th>\n",
       "      <th></th>\n",
       "      <th></th>\n",
       "      <th></th>\n",
       "    </tr>\n",
       "  </thead>\n",
       "  <tbody>\n",
       "    <tr>\n",
       "      <th>G</th>\n",
       "      <td>78.039585</td>\n",
       "      <td>1.847314</td>\n",
       "      <td>0.207352</td>\n",
       "      <td>0.263902</td>\n",
       "    </tr>\n",
       "    <tr>\n",
       "      <th>P</th>\n",
       "      <td>5.523091</td>\n",
       "      <td>3.317625</td>\n",
       "      <td>0.320452</td>\n",
       "      <td>0.047125</td>\n",
       "    </tr>\n",
       "    <tr>\n",
       "      <th>R</th>\n",
       "      <td>1.696513</td>\n",
       "      <td>0.490104</td>\n",
       "      <td>1.196984</td>\n",
       "      <td>0.263902</td>\n",
       "    </tr>\n",
       "    <tr>\n",
       "      <th>X</th>\n",
       "      <td>2.016965</td>\n",
       "      <td>0.235627</td>\n",
       "      <td>0.235627</td>\n",
       "      <td>4.297832</td>\n",
       "    </tr>\n",
       "  </tbody>\n",
       "</table>\n",
       "</div>"
      ],
      "text/plain": [
       "top category_75          G         P         R         X\n",
       "top category_25                                         \n",
       "G                78.039585  1.847314  0.207352  0.263902\n",
       "P                 5.523091  3.317625  0.320452  0.047125\n",
       "R                 1.696513  0.490104  1.196984  0.263902\n",
       "X                 2.016965  0.235627  0.235627  4.297832"
      ]
     },
     "execution_count": 19,
     "metadata": {},
     "output_type": "execute_result"
    }
   ],
   "source": [
    "error_pd*100"
   ]
  },
  {
   "cell_type": "markdown",
   "metadata": {
    "collapsed": true
   },
   "source": [
    "* Here we can see that the most of difference lies in the category of turk over 25 predicts to be P while turk over 75 predict to be G"
   ]
  }
 ],
 "metadata": {
  "anaconda-cloud": {},
  "kernelspec": {
   "display_name": "Python [default]",
   "language": "python",
   "name": "python2"
  },
  "language_info": {
   "codemirror_mode": {
    "name": "ipython",
    "version": 2
   },
   "file_extension": ".py",
   "mimetype": "text/x-python",
   "name": "python",
   "nbconvert_exporter": "python",
   "pygments_lexer": "ipython2",
   "version": "2.7.13"
  }
 },
 "nbformat": 4,
 "nbformat_minor": 1
}
