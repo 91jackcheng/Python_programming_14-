{
 "cells": [
  {
   "cell_type": "code",
   "execution_count": 47,
   "metadata": {
    "collapsed": true
   },
   "outputs": [],
   "source": [
    "import pandas as pd\n",
    "import html5lib\n",
    "import numpy as np"
   ]
  },
  {
   "cell_type": "code",
   "execution_count": 36,
   "metadata": {},
   "outputs": [],
   "source": [
    "df1=pd.read_html('html.html')"
   ]
  },
  {
   "cell_type": "code",
   "execution_count": 37,
   "metadata": {},
   "outputs": [
    {
     "data": {
      "text/plain": [
       "[          COUNTY  REPUBLICAN  DEMOCRAT   MINOR     NONE     TOTAL\n",
       " 0        ALACHUA       50399     85479    4153    39069    179100\n",
       " 1          BAKER        7857      5925     182     1463     15427\n",
       " 2            BAY       61528     31876    2658    23064    119126\n",
       " 3       BRADFORD        7220      6298     252     2041     15811\n",
       " 4        BREVARD      174589    131818   14903    94440    415750\n",
       " 5        BROWARD      258088    603674   18907   311218   1191887\n",
       " 6        CALHOUN        2281      5405      87      843      8616\n",
       " 7      CHARLOTTE       56973     36307    5441    30801    129522\n",
       " 8         CITRUS       49473     30550    3520    23247    106790\n",
       " 9           CLAY       80223     32018    3897    30801    146939\n",
       " 10       COLLIER      104443     48866    4722    47925    205956\n",
       " 11      COLUMBIA       16693     14549     920     5921     38083\n",
       " 12        DESOTO        5134      7487     241     3151     16013\n",
       " 13         DIXIE        3685      4711     231     1326      9953\n",
       " 14         DUVAL      220834    241220   17065   111504    590623\n",
       " 15      ESCAMBIA       94699     73093    5468    38395    211655\n",
       " 16       FLAGLER       31822     25371    1882    20821     79896\n",
       " 17      FRANKLIN        2294      4171     147      817      7429\n",
       " 18       GADSDEN        4490     22428     307     2364     29589\n",
       " 19     GILCHRIST        6156      3568     313     1439     11476\n",
       " 20        GLADES        2385      3100     164     1016      6665\n",
       " 21          GULF        4662      4334     181     1067     10244\n",
       " 22      HAMILTON        2306      4777     164      846      8093\n",
       " 23        HARDEE        5025      4680     236     1793     11734\n",
       " 24        HENDRY        6181      8240     303     2910     17634\n",
       " 25      HERNANDO       53575     43289    4844    30127    131835\n",
       " 26     HIGHLANDS       28149     20336    1718    12031     62234\n",
       " 27  HILLSBOROUGH      268349    336990   23730   224453    853522\n",
       " 28        HOLMES        6025      4041     120     1144     11330\n",
       " 29  INDIAN RIVER       49991     29339    3419    24706    107455\n",
       " ..           ...         ...       ...     ...      ...       ...\n",
       " 38       MADISON        3264      7174     208     1034     11680\n",
       " 39       MANATEE      101132     71677    5622    54147    232578\n",
       " 40        MARION      100642     76499    8354    41024    226519\n",
       " 41        MARTIN       55653     28099    5304    22534    111590\n",
       " 42    MIAMI-DADE      374671    594171   20342   407697   1396881\n",
       " 43        MONROE       21378     18137    1482    14697     55694\n",
       " 44        NASSAU       35486     13918    1983    10373     61760\n",
       " 45      OKALOOSA       79511     26645    2873    28547    137576\n",
       " 46    OKEECHOBEE        8498      7705     631     3394     20228\n",
       " 47        ORANGE      214948    336042   17357   220258    788605\n",
       " 48       OSCEOLA       47516     87357    4020    60774    199667\n",
       " 49    PALM BEACH      256047    385417   31451   233487    906402\n",
       " 50         PASCO      132000    108330   15354    84110    339794\n",
       " 51      PINELLAS      228757    228571   23447   158616    639391\n",
       " 52          POLK      146593    150048   11787   100897    409325\n",
       " 53        PUTNAM       18162     20428     974     8279     47843\n",
       " 54    SANTA ROSA       77044     26508    4333    24376    132261\n",
       " 55      SARASOTA      130430     92983    9489    71373    304275\n",
       " 56      SEMINOLE      111553     98566    7445    75054    292618\n",
       " 57     ST. JOHNS       92728     41098    5232    35958    175016\n",
       " 58     ST. LUCIE       62369     77848    6417    46393    193027\n",
       " 59        SUMTER       49317     23600    3048    16954     92919\n",
       " 60      SUWANNEE       11417     10900    1046     3156     26519\n",
       " 61        TAYLOR        4275      6940     248      934     12397\n",
       " 62         UNION        3031      3481     133      639      7284\n",
       " 63       VOLUSIA      128948    129528   11895    96269    366640\n",
       " 64       WAKULLA        7920      8765     573     2845     20103\n",
       " 65        WALTON       27630      9809     897     8599     46935\n",
       " 66    WASHINGTON        7629      5592     233     1806     15260\n",
       " 67         TOTAL     4575277   4905705  347288  3130915  12959185\n",
       " \n",
       " [68 rows x 6 columns]]"
      ]
     },
     "execution_count": 37,
     "metadata": {},
     "output_type": "execute_result"
    }
   ],
   "source": [
    "df1"
   ]
  },
  {
   "cell_type": "code",
   "execution_count": 64,
   "metadata": {},
   "outputs": [],
   "source": [
    "m=df1[0]"
   ]
  },
  {
   "cell_type": "code",
   "execution_count": 65,
   "metadata": {},
   "outputs": [],
   "source": [
    "m=np.array(m)"
   ]
  },
  {
   "cell_type": "code",
   "execution_count": 68,
   "metadata": {},
   "outputs": [],
   "source": [
    "lm=m.tolist()"
   ]
  },
  {
   "cell_type": "code",
   "execution_count": 72,
   "metadata": {},
   "outputs": [
    {
     "ename": "SyntaxError",
     "evalue": "invalid syntax (<ipython-input-72-a09f0ccfc5d2>, line 1)",
     "output_type": "error",
     "traceback": [
      "\u001b[0;36m  File \u001b[0;32m\"<ipython-input-72-a09f0ccfc5d2>\"\u001b[0;36m, line \u001b[0;32m1\u001b[0m\n\u001b[0;31m    for i in [1:3]:\u001b[0m\n\u001b[0m               ^\u001b[0m\n\u001b[0;31mSyntaxError\u001b[0m\u001b[0;31m:\u001b[0m invalid syntax\n"
     ]
    }
   ],
   "source": [
    "\n"
   ]
  },
  {
   "cell_type": "code",
   "execution_count": 88,
   "metadata": {},
   "outputs": [],
   "source": [
    "def getdemocrat(data):\n",
    "    return data[2]\n",
    "sortedlm=sorted(lm, key=getdemocrat)"
   ]
  },
  {
   "cell_type": "code",
   "execution_count": 92,
   "metadata": {},
   "outputs": [
    {
     "data": {
      "text/plain": [
       "[u'TOTAL', 4575277, 4905705, 347288, 3130915, 12959185]"
      ]
     },
     "execution_count": 92,
     "metadata": {},
     "output_type": "execute_result"
    }
   ],
   "source": [
    "sortedlm.pop()"
   ]
  },
  {
   "cell_type": "code",
   "execution_count": 121,
   "metadata": {},
   "outputs": [
    {
     "name": "stdout",
     "output_type": "stream",
     "text": [
      "LAFAYETTE   1537  2615  57  254  4463\n",
      "GLADES   2385  3100  164  1016  6665\n",
      "LIBERTY   733  3392  25  349  4499\n",
      "UNION   3031  3481  133  639  7284\n",
      "GILCHRIST   6156  3568  313  1439  11476\n",
      "HOLMES   6025  4041  120  1144  11330\n",
      "FRANKLIN   2294  4171  147  817  7429\n",
      "GULF   4662  4334  181  1067  10244\n",
      "HARDEE   5025  4680  236  1793  11734\n",
      "DIXIE   3685  4711  231  1326  9953\n",
      "HAMILTON   2306  4777  164  846  8093\n",
      "CALHOUN   2281  5405  87  843  8616\n",
      "WASHINGTON   7629  5592  233  1806  15260\n",
      "JEFFERSON   2738  5714  176  846  9474\n",
      "BAKER   7857  5925  182  1463  15427\n",
      "BRADFORD   7220  6298  252  2041  15811\n",
      "TAYLOR   4275  6940  248  934  12397\n",
      "MADISON   3264  7174  208  1034  11680\n",
      "DESOTO   5134  7487  241  3151  16013\n",
      "OKEECHOBEE   8498  7705  631  3394  20228\n",
      "HENDRY   6181  8240  303  2910  17634\n",
      "WAKULLA   7920  8765  573  2845  20103\n",
      "LEVY   12315  9453  1287  3855  26910\n",
      "WALTON   27630  9809  897  8599  46935\n",
      "SUWANNEE   11417  10900  1046  3156  26519\n",
      "NASSAU   35486  13918  1983  10373  61760\n",
      "COLUMBIA   16693  14549  920  5921  38083\n",
      "JACKSON   10153  15790  335  2771  29049\n",
      "MONROE   21378  18137  1482  14697  55694\n",
      "HIGHLANDS   28149  20336  1718  12031  62234\n",
      "PUTNAM   18162  20428  974  8279  47843\n",
      "GADSDEN   4490  22428  307  2364  29589\n",
      "SUMTER   49317  23600  3048  16954  92919\n",
      "FLAGLER   31822  25371  1882  20821  79896\n",
      "SANTA ROSA   77044  26508  4333  24376  132261\n",
      "OKALOOSA   79511  26645  2873  28547  137576\n",
      "MARTIN   55653  28099  5304  22534  111590\n",
      "INDIAN RIVER   49991  29339  3419  24706  107455\n",
      "CITRUS   49473  30550  3520  23247  106790\n",
      "BAY   61528  31876  2658  23064  119126\n",
      "CLAY   80223  32018  3897  30801  146939\n",
      "CHARLOTTE   56973  36307  5441  30801  129522\n",
      "ST. JOHNS   92728  41098  5232  35958  175016\n",
      "HERNANDO   53575  43289  4844  30127  131835\n",
      "COLLIER   104443  48866  4722  47925  205956\n",
      "LAKE   98232  70288  7542  48598  224660\n",
      "MANATEE   101132  71677  5622  54147  232578\n",
      "ESCAMBIA   94699  73093  5468  38395  211655\n",
      "MARION   100642  76499  8354  41024  226519\n",
      "ST. LUCIE   62369  77848  6417  46393  193027\n",
      "ALACHUA   50399  85479  4153  39069  179100\n",
      "OSCEOLA   47516  87357  4020  60774  199667\n",
      "SARASOTA   130430  92983  9489  71373  304275\n",
      "SEMINOLE   111553  98566  7445  75054  292618\n",
      "PASCO   132000  108330  15354  84110  339794\n",
      "LEON   57820  110270  4663  35771  208524\n",
      "LEE   187671  118407  10850  113504  430432\n",
      "VOLUSIA   128948  129528  11895  96269  366640\n",
      "BREVARD   174589  131818  14903  94440  415750\n",
      "POLK   146593  150048  11787  100897  409325\n",
      "PINELLAS   228757  228571  23447  158616  639391\n",
      "DUVAL   220834  241220  17065  111504  590623\n",
      "ORANGE   214948  336042  17357  220258  788605\n",
      "HILLSBOROUGH   268349  336990  23730  224453  853522\n",
      "PALM BEACH   256047  385417  31451  233487  906402\n",
      "MIAMI-DADE   374671  594171  20342  407697  1396881\n",
      "BROWARD   258088  603674  18907  311218  1191887\n"
     ]
    }
   ],
   "source": [
    "for i in sortedlm:\n",
    "    string=str(i)[3:-1]\n",
    "    purestr=string.replace(',',' ')\n",
    "    purestr=purestr.replace(\"'\",' ')\n",
    "    print purestr"
   ]
  },
  {
   "cell_type": "code",
   "execution_count": null,
   "metadata": {
    "collapsed": true
   },
   "outputs": [],
   "source": []
  }
 ],
 "metadata": {
  "anaconda-cloud": {},
  "kernelspec": {
   "display_name": "Python [conda root]",
   "language": "python",
   "name": "conda-root-py"
  },
  "language_info": {
   "codemirror_mode": {
    "name": "ipython",
    "version": 2
   },
   "file_extension": ".py",
   "mimetype": "text/x-python",
   "name": "python",
   "nbconvert_exporter": "python",
   "pygments_lexer": "ipython2",
   "version": "2.7.13"
  }
 },
 "nbformat": 4,
 "nbformat_minor": 1
}
