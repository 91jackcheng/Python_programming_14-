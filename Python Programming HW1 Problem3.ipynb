{
 "cells": [
  {
   "cell_type": "code",
   "execution_count": 333,
   "metadata": {
    "collapsed": true
   },
   "outputs": [],
   "source": [
    "import math"
   ]
  },
  {
   "cell_type": "code",
   "execution_count": 175,
   "metadata": {},
   "outputs": [],
   "source": [
    "# Opening the file\n",
    "fp = open('quotes.txt', 'r')\n",
    "text=fp.readlines()"
   ]
  },
  {
   "cell_type": "code",
   "execution_count": 177,
   "metadata": {},
   "outputs": [],
   "source": [
    "def build_list(s):\n",
    "    new_list=[]\n",
    "    i=0\n",
    "    while i<len(s)-1:\n",
    "        aux=str(s[i]+' - '+s[i+1])\n",
    "        aux=aux.replace('\\r\\n','')\n",
    "        new_list.append(aux)\n",
    "        i+=2\n",
    "    return new_list"
   ]
  },
  {
   "cell_type": "code",
   "execution_count": 179,
   "metadata": {
    "scrolled": true
   },
   "outputs": [],
   "source": [
    "answera=build_list(text)"
   ]
  },
  {
   "cell_type": "code",
   "execution_count": 224,
   "metadata": {},
   "outputs": [],
   "source": [
    "import re\n",
    "def get_words(quote):\n",
    "    quote=quote.lower()\n",
    "    quote=subname(quote)\n",
    "    ans=re.split('\\s',quote)\n",
    "    reans=[]\n",
    "    for i in ans:\n",
    "        if i!='-' and i!='':\n",
    "            aux=re.findall('[a-z0-9_]+',i) \n",
    "            if len(aux)>0:\n",
    "                reans.append(str(aux)[2:-2])\n",
    "    return reans"
   ]
  },
  {
   "cell_type": "code",
   "execution_count": 225,
   "metadata": {
    "collapsed": true
   },
   "outputs": [],
   "source": [
    "def subname(s):\n",
    "    s=s.split('-')\n",
    "    s=s[0:-1]\n",
    "    s=str(s)[2:-2]\n",
    "    return s\n",
    "    \n",
    "    \n",
    "    "
   ]
  },
  {
   "cell_type": "code",
   "execution_count": 226,
   "metadata": {
    "collapsed": true
   },
   "outputs": [],
   "source": [
    "def count(l1):\n",
    "    wordcount={}\n",
    "    for i in l1:\n",
    "        count=l1.count(i)\n",
    "        wordcount[i]=count\n",
    "    return wordcount\n",
    "            \n",
    "        "
   ]
  },
  {
   "cell_type": "code",
   "execution_count": 227,
   "metadata": {},
   "outputs": [],
   "source": [
    "word_count_dict={}\n",
    "for i in answera:\n",
    "    word_count_dict[i]=count(get_words(i))\n",
    "    "
   ]
  },
  {
   "cell_type": "code",
   "execution_count": 244,
   "metadata": {},
   "outputs": [],
   "source": [
    "rev_dict={}\n",
    "for i in answera:\n",
    "    for key in word_count_dict[i]:\n",
    "        rev_dict[key]={}\n",
    "        \n",
    "      \n"
   ]
  },
  {
   "cell_type": "code",
   "execution_count": 245,
   "metadata": {},
   "outputs": [],
   "source": [
    "for i in answera:\n",
    "    for key in word_count_dict[i]:\n",
    "        rev_dict[key][i]=str(word_count_dict[i][key])"
   ]
  },
  {
   "cell_type": "code",
   "execution_count": null,
   "metadata": {
    "collapsed": true
   },
   "outputs": [],
   "source": [
    "#get the rev_dict as the answer"
   ]
  },
  {
   "cell_type": "code",
   "execution_count": 318,
   "metadata": {},
   "outputs": [],
   "source": [
    "def get_tf(w,s):\n",
    "    word_count=rev_dict[w][s]\n",
    "    sorted_list=sorted(word_count_dict[s].items(),key=lambda item:item[1])\n",
    "    max_word=sorted_list[-1][0]\n",
    "    max_word_count=rev_dict[max_word][s]\n",
    "    return int(word_count)*1.0/int(max_word_count)"
   ]
  },
  {
   "cell_type": "code",
   "execution_count": 335,
   "metadata": {
    "collapsed": true
   },
   "outputs": [],
   "source": [
    "def get_idf(w):\n",
    "    rel_doc=len(rev_dict[w])\n",
    "    total_doc=len(answera)\n",
    "    idf=math.log(total_doc*1.0/rel_doc)\n",
    "    return idf"
   ]
  },
  {
   "cell_type": "code",
   "execution_count": 337,
   "metadata": {
    "collapsed": true
   },
   "outputs": [],
   "source": [
    "def get_tf_idf(w,s):\n",
    "    tf=get_tf(w,s)\n",
    "    idf=get_idf(w)\n",
    "    tf_idf=tf*idf\n",
    "    return tf_idf"
   ]
  },
  {
   "cell_type": "code",
   "execution_count": 344,
   "metadata": {},
   "outputs": [],
   "source": [
    "def get_sentence_tfidf(w):\n",
    "    s_tfidf_dict={}\n",
    "    for i in rev_dict['sex'].keys():\n",
    "        s_tfidf_dict[i]=get_tf_idf(w,i)\n",
    "    return s_tfidf_dict"
   ]
  },
  {
   "cell_type": "code",
   "execution_count": 345,
   "metadata": {},
   "outputs": [
    {
     "data": {
      "text/plain": [
       "{'Children today know more about sex than I or my father did. - Bill Cosby': 4.38882167780671,\n",
       " 'I like to say that I`m bisexual...when I want sex, I buy it. - Boy George': 1.4629405592689033,\n",
       " 'It is better to be bold than too circumspect, because fortune is of a sex which likes not a tardy wooer and repulses all who are not ardent. - Nicolo Machiavelli': 2.194410838903355,\n",
       " 'Philosophy is to the real world as masturbation is to sex. - Karl Marx': 2.194410838903355,\n",
       " 'Remember when safe sex meant not getting caught? - Author Unknown': 4.38882167780671,\n",
       " 'Remember, if you smoke after sex you`re doing it too fast. - Woody Allen': 4.38882167780671,\n",
       " 'Sex at age ninety is like trying to shoot pool with a rope. - George Burns': 4.38882167780671,\n",
       " 'Sex is emotion in motion. - Mae West': 4.38882167780671,\n",
       " 'Sex without love is a meaningless experience, but as far as meaningless experiences go, it`s pretty damn good. - Woody Allen': 2.194410838903355,\n",
       " 'The difference between sex and death is that with death you can do it alone and no one is going to make fun of you. - Woody Allen': 2.194410838903355,\n",
       " 'Women need a reason to have sex -- men just need a place. - Billy Crystal': 2.194410838903355}"
      ]
     },
     "execution_count": 345,
     "metadata": {},
     "output_type": "execute_result"
    }
   ],
   "source": [
    "get_sentence_tfidf('sex')"
   ]
  },
  {
   "cell_type": "code",
   "execution_count": 349,
   "metadata": {},
   "outputs": [
    {
     "data": {
      "text/plain": [
       "['It is better to be bold than too circumspect, because fortune is of a sex which likes not a tardy wooer and repulses all who are not ardent. - Nicolo Machiavelli',\n",
       " 'I like to say that I`m bisexual...when I want sex, I buy it. - Boy George',\n",
       " 'Remember, if you smoke after sex you`re doing it too fast. - Woody Allen',\n",
       " 'Women need a reason to have sex -- men just need a place. - Billy Crystal',\n",
       " 'Sex at age ninety is like trying to shoot pool with a rope. - George Burns',\n",
       " 'The difference between sex and death is that with death you can do it alone and no one is going to make fun of you. - Woody Allen',\n",
       " 'Sex without love is a meaningless experience, but as far as meaningless experiences go, it`s pretty damn good. - Woody Allen',\n",
       " 'Remember when safe sex meant not getting caught? - Author Unknown',\n",
       " 'Philosophy is to the real world as masturbation is to sex. - Karl Marx',\n",
       " 'Children today know more about sex than I or my father did. - Bill Cosby',\n",
       " 'Sex is emotion in motion. - Mae West']"
      ]
     },
     "execution_count": 349,
     "metadata": {},
     "output_type": "execute_result"
    }
   ],
   "source": [
    "rev_dict['sex'].keys()"
   ]
  },
  {
   "cell_type": "code",
   "execution_count": 353,
   "metadata": {},
   "outputs": [],
   "source": [
    "def get_sum_sentence_tfidf(wlist):\n",
    "    sum_sentence_tfidf={}\n",
    "    for i in wlist:\n",
    "        total_tfidf=0\n",
    "        for j in rev_dict[i].keys():\n",
    "            total_tfidf+=get_tf_idf(i,j)\n",
    "            sum_sentence_tfidf[j]=total_tfidf\n",
    "    return sum_sentence_tfidf\n",
    "        \n",
    "    "
   ]
  },
  {
   "cell_type": "code",
   "execution_count": 354,
   "metadata": {},
   "outputs": [
    {
     "data": {
      "text/plain": [
       "{'Accept good advice gracefully--as long as it doesn`t interfere with what you intended to do in the first place. - Gene Brown': 18.28269377847259,\n",
       " 'Children today know more about sex than I or my father did. - Bill Cosby': 29.990281465012522,\n",
       " 'I like to say that I`m bisexual...when I want sex, I buy it. - Boy George': 3.6573513981722585,\n",
       " 'In framing a government which is to be administered by men over men the great difficulty lies in this: You must first enable the government to control the governed, and in the next place, oblige it to control itself. - Alexander Hamilton': 8.60362060163416,\n",
       " 'It is better to be bold than too circumspect, because fortune is of a sex which likes not a tardy wooer and repulses all who are not ardent. - Nicolo Machiavelli': 2.194410838903355,\n",
       " 'It is hard to believe that a man is telling the truth when you know that you would lie if you were in his place. - Henry Mencken': 5.37726287602135,\n",
       " 'Let the word go forth from this time and place, to friend and foe alike, that the torch has been passed to a new generation of Americans. - John F. Kennedy': 13.980883477655512,\n",
       " 'My dream is of a place and a time where America will once again be seen as the last best hope of earth. - Abraham Lincoln': 16.13178862806405,\n",
       " 'No distance of place or lapse of time can lessen the friendship of those who are thoroughly persuaded of each other`s worth. - Robert Southey': 11.829978327246971,\n",
       " 'Observe constantly that all things take place by change, and accustom thyself to consider that the nature of the Universe love nothing so much as to change. The Universe is change. - Marcus Aurelius': 3.943326109082323,\n",
       " 'Philosophy is to the real world as masturbation is to sex. - Karl Marx': 25.601459787205812,\n",
       " 'Remember not only to say the right thing in the right place, but far more difficult still, to leave unsaid the wrong thing at the tempting moment. - Benjamin Franklin': 1.07545257520427,\n",
       " 'Remember when safe sex meant not getting caught? - Author Unknown': 23.407048948302457,\n",
       " 'Remember, if you smoke after sex you`re doing it too fast. - Woody Allen': 8.046173075978968,\n",
       " 'Sex at age ninety is like trying to shoot pool with a rope. - George Burns': 14.629405592689034,\n",
       " 'Sex is emotion in motion. - Mae West': 34.37910314281923,\n",
       " 'Sex without love is a meaningless experience, but as far as meaningless experiences go, it`s pretty damn good. - Woody Allen': 19.018227270495746,\n",
       " 'Show me your hands. Do they have scars from giving? Show me your feet. Are they wounded in service? Show me your heart. Have you left a place for divine love? - Fulton J. Sheen': 19.71663054541162,\n",
       " 'Talent alone won`t make you a success. Neither will being in the right place at the right time, unless you are ready. The most important question is: `Are you ready?` - Johnny Carson': 2.5093893421432965,\n",
       " 'The difference between sex and death is that with death you can do it alone and no one is going to make fun of you. - Woody Allen': 16.82381643159239,\n",
       " 'We have to make America the best place in the world to do business. - Dick Cheney': 10.754525752042701,\n",
       " 'Women need a reason to have sex -- men just need a place. - Billy Crystal': 7.52816802642989}"
      ]
     },
     "execution_count": 354,
     "metadata": {},
     "output_type": "execute_result"
    }
   ],
   "source": [
    "get_sum_sentence_tfidf(['sex','place'])"
   ]
  },
  {
   "cell_type": "code",
   "execution_count": null,
   "metadata": {
    "collapsed": true
   },
   "outputs": [],
   "source": []
  }
 ],
 "metadata": {
  "anaconda-cloud": {},
  "kernelspec": {
   "display_name": "Python [conda root]",
   "language": "python",
   "name": "conda-root-py"
  },
  "language_info": {
   "codemirror_mode": {
    "name": "ipython",
    "version": 2
   },
   "file_extension": ".py",
   "mimetype": "text/x-python",
   "name": "python",
   "nbconvert_exporter": "python",
   "pygments_lexer": "ipython2",
   "version": "2.7.13"
  }
 },
 "nbformat": 4,
 "nbformat_minor": 1
}
