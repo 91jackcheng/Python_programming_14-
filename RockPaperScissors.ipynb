{
 "cells": [
  {
   "cell_type": "markdown",
   "metadata": {},
   "source": [
    "# Rock Paper Scissors Game\n",
    "###  In this game, the player selects one input out of \"rock\", \"paper\", or \"scissors\" and the computer tracks the frequency of inputs in order to make an informed selection to optimize computer wins. The function, \"rock_paper_scissors\", takes player input and evaluates whether the round is a win, tie, or loss. The function, \"human bias\", tracks user bias so that the computer gets smarter as games go on."
    "#####Group members: Daxi Cheng, Tomas Fernandez, McKenna Karnes, Lufang Liu, Charvi Mittal (Group# 14)"
   ]
  },
  {
   "cell_type": "code",
   "execution_count": 1,
   "metadata": {},
   "outputs": [],
   "source": [
    "#import randint function from random\n",
    "from random import randint\n",
    "\n",
    "#initializes number of times player has chosen rock,paper, or scissors to zero\n",
    "rock = 0         \n",
    "paper = 0            \n",
    "scissors = 0\n",
    "\n",
    "#stores a list of move options\n",
    "options = ['rock','paper','scissors']  \n",
    "\n",
    "#function for playing a game of rock,paper,scissors\n",
    "def rock_paper_scissors(): \n",
    "    \"\"\"This function takes input from the player, calls the human_bias function to select the computer's move,\n",
    "    and then determines who has won the round based off of the player and computer selections.\"\"\"\n",
    "    player = []  #initializes player choice\n",
    "    numgames = -1    #tracks number of rounds: -1 to account for 'quit' round\n",
    "    playerwins = 0    #tracks number of wins for player\n",
    "    \n",
    "    #allows the function access to rock, paper, and scissors variables\n",
    "    global rock\n",
    "    global paper\n",
    "    global scissors\n",
    "    \n",
    "    #starts game loop while the player does not wish to quit\n",
    "    while player != 'quit':\n",
    "        player= raw_input(\"Enter your move:\")  #asks for and stores player move\n",
    "        player = player.lower()                #converts player entry to all lower case\n",
    "        #if-statement checking for valid entries \n",
    "        if (player == 'rock' or player == 'paper' or player == 'scissors' or player == 'quit'):\n",
    "            numgames += 1    #tracks number of games played-including ties\n",
    "            \n",
    "            #calls the human_bias function to determine what the computer move should be\n",
    "            #and assigns that to the computer variable\n",
    "            computer = human_bias(player)\n",
    "            #if-else statement to determine if the round is a computer win, player win, or a tie\n",
    "            #updates the number of rock, paper, and scissors played\n",
    "            if (player == computer):\n",
    "                print \"It's a tie\"\n",
    "                if player == 'rock':\n",
    "                    rock+=1\n",
    "                elif player == 'paper': \n",
    "                    paper += 1 \n",
    "                elif player == 'scissors': \n",
    "                    scissors+=1 \n",
    "                else:\n",
    "                    scissors = scissors\n",
    "            elif (player == 'rock'):\n",
    "                rock += 1\n",
    "                if (computer == 'paper'):\n",
    "                    print \"Computer wins!\"\n",
    "                else:\n",
    "                    print \"You win!\"\n",
    "                    playerwins += 1\n",
    "            elif (player == 'paper'):\n",
    "                paper += 1\n",
    "                if (computer == 'rock'):\n",
    "                    print \"You win!\"\n",
    "                    playerwins += 1\n",
    "                else:\n",
    "                    print \"Computer wins!\"\n",
    "            elif (player == 'scissors'):\n",
    "                scissors += 1\n",
    "                if (computer == 'rock'):\n",
    "                    print \"Computer wins!\"\n",
    "                else:\n",
    "                    print \"You win!\"\n",
    "                    playerwins += 1\n",
    "        #accounts for invalid entries- the start of the while loop will prompt the player for next move\n",
    "        else:\n",
    "            print \"\\nInvalid entry, please enter 'rock', 'paper', 'scissors', or 'quit'\" \n",
    "    #when player decides to quit, displays the number of games played and number of player wins\n",
    "    print \"\\nThanks for playing, you played\", numgames, \"games and won\", playerwins, \"games!\"\n",
    "\n",
    "\n",
    "#function for tracking human bias\n",
    "def human_bias(player):\n",
    "    \"\"\"This function uses the tracked frequency of the player's choice of \n",
    "    rock, paper, or scissors to make an informed decision on what the computer should play next.\"\"\"\n",
    "    #computer starts with no human information, so chooses rock, paper, or scissors at random\n",
    "    if (rock == 0 and paper == 0 and scissors == 0):\n",
    "        computer = options[randint(0,2)]\n",
    "    elif (rock > paper and rock > scissors):\n",
    "        computer = options[1]\n",
    "    elif(paper > rock and paper > scissors):\n",
    "        computer = options[2]\n",
    "    elif(scissors > rock and scissors > paper):\n",
    "        computer = options[0]\n",
    "    #when player has chosen 2 moves the same number of times, computer chooses the move \n",
    "    #that will either result in a tie or a win, rather than a tie or a loss\n",
    "    elif(rock == paper and rock > scissors):\n",
    "        computer = options[1]\n",
    "    elif(rock == scissors and rock > paper):\n",
    "        computer = options[0]\n",
    "    elif(scissors == paper and scissors > rock):\n",
    "        computer = options[2]\n",
    "    else:\n",
    "        computer = options[randint(0,2)]\n",
    "    return computer    #returns computer's move"
   ]
  },
  {
   "cell_type": "code",
   "execution_count": 2,
   "metadata": {},
   "outputs": [
    {
     "name": "stdout",
     "output_type": "stream",
     "text": [
      "Enter your move:rock\n",
      "Computer wins!\n",
      "Enter your move:paper\n",
      "It's a tie\n",
      "Enter your move:scissors\n",
      "You win!\n",
      "Enter your move:scissor\n",
      "\n",
      "Invalid entry, please enter 'rock', 'paper', 'scissors', or 'quit'\n",
      "Enter your move:rock\n",
      "Computer wins!\n",
      "Enter your move:paper\n",
      "It's a tie\n",
      "Enter your move:paper\n",
      "It's a tie\n",
      "Enter your move:rock\n",
      "You win!\n",
      "Enter your move:rock\n",
      "Computer wins!\n",
      "Enter your move:scissors\n",
      "You win!\n",
      "Enter your move:scissors\n",
      "You win!\n",
      "Enter your move:scissors\n",
      "You win!\n",
      "Enter your move:scissors\n",
      "Computer wins!\n",
      "Enter your move:quit\n",
      "\n",
      "Thanks for playing, you played 12 games and won 5 games!\n"
     ]
    }
   ],
   "source": [
    "rock_paper_scissors()"
   ]
  },
  {
   "cell_type": "raw",
   "metadata": {},
   "source": []
  },
  {
   "cell_type": "code",
   "execution_count": null,
   "metadata": {
    "collapsed": true
   },
   "outputs": [],
   "source": []
  },
  {
   "cell_type": "code",
   "execution_count": null,
   "metadata": {
    "collapsed": true
   },
   "outputs": [],
   "source": []
  }
 ],
 "metadata": {
  "kernelspec": {
   "display_name": "Python 2",
   "language": "python",
   "name": "python2"
  },
  "language_info": {
   "codemirror_mode": {
    "name": "ipython",
    "version": 2
   },
   "file_extension": ".py",
   "mimetype": "text/x-python",
   "name": "python",
   "nbconvert_exporter": "python",
   "pygments_lexer": "ipython2",
   "version": "2.7.13"
  }
 },
 "nbformat": 4,
 "nbformat_minor": 2
}
