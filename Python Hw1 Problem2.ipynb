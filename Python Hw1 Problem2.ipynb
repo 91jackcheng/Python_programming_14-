{
 "cells": [
  {
   "cell_type": "code",
   "execution_count": 379,
   "metadata": {
    "collapsed": true
   },
   "outputs": [],
   "source": [
    "import re\n",
    "# Opening the file\n",
    "fp = open('html.html', 'r')\n"
   ]
  },
  {
   "cell_type": "code",
   "execution_count": 383,
   "metadata": {},
   "outputs": [
    {
     "data": {
      "text/plain": [
       "0"
      ]
     },
     "execution_count": 383,
     "metadata": {},
     "output_type": "execute_result"
    }
   ],
   "source": [
    "raw=fp.readlines()"
   ]
  },
  {
   "cell_type": "code",
   "execution_count": 278,
   "metadata": {
    "collapsed": true
   },
   "outputs": [],
   "source": [
    "def find_raw_numbers(s):\n",
    "    res_tr = r'<tbody>(.*?)</tbody>'\n",
    "    return re.findall(res_tr,s)\n",
    "\n",
    "t=str(raw)\n",
    "raw_numbers=find_raw_numbers(t)"
   ]
  },
  {
   "cell_type": "code",
   "execution_count": 286,
   "metadata": {
    "collapsed": true
   },
   "outputs": [],
   "source": [
    "def find_useful_numbers(s):\n",
    "    res_tr = r'<tr>(.*?)</tr>'\n",
    "    return re.findall(res_tr,s)\n",
    "\n",
    "useful_numbers=find_useful_numbers(str(raw_numbers))"
   ]
  },
  {
   "cell_type": "code",
   "execution_count": 368,
   "metadata": {
    "collapsed": true
   },
   "outputs": [],
   "source": [
    "def clear(s):\n",
    "    s=s.replace(\"\\\\\\\\r\\\\\\\\n\",\"\")\n",
    "    s=s.replace(\"<td>\",\"\")\n",
    "    s=s.replace(\"</td>\",\"\")\n",
    "    s=s.replace(\"'\",\"\")\n",
    "    s=s.replace('\"',\"\")\n",
    "    s=s.split(', ')[1:-1]\n",
    "    \n",
    "    return s\n"
   ]
  },
  {
   "cell_type": "code",
   "execution_count": 369,
   "metadata": {
    "collapsed": true
   },
   "outputs": [],
   "source": [
    "clear_numbers=[clear(nums)for nums in useful_numbers]"
   ]
  },
  {
   "cell_type": "code",
   "execution_count": 371,
   "metadata": {},
   "outputs": [
    {
     "data": {
      "text/plain": [
       "['<strong>TOTAL</strong>',\n",
       " '<strong>4,575,277</strong>',\n",
       " '<strong>4,905,705</strong>',\n",
       " '<strong>347,288</strong>',\n",
       " '<strong>3,130,915</strong>',\n",
       " '<strong>12,959,185</strong>']"
      ]
     },
     "execution_count": 371,
     "metadata": {},
     "output_type": "execute_result"
    }
   ],
   "source": [
    "clear_numbers.pop()"
   ]
  },
  {
   "cell_type": "code",
   "execution_count": 373,
   "metadata": {},
   "outputs": [
    {
     "data": {
      "text/plain": [
       "['ALACHUA', '50,399', '85,479', '4,153', '39,069', '179,100']"
      ]
     },
     "execution_count": 373,
     "metadata": {},
     "output_type": "execute_result"
    }
   ],
   "source": [
    "clear_numbers[0]"
   ]
  },
  {
   "cell_type": "code",
   "execution_count": 374,
   "metadata": {
    "collapsed": true
   },
   "outputs": [],
   "source": [
    "def getdemocrat(data):\n",
    "    datastr=str(data[2])\n",
    "    dataint=int(datastr.replace(',',''))\n",
    "    return dataint\n",
    "sortedcleardata=sorted(clear_numbers, key=getdemocrat)"
   ]
  },
  {
   "cell_type": "code",
   "execution_count": 375,
   "metadata": {},
   "outputs": [
    {
     "data": {
      "text/plain": [
       "[['LAFAYETTE', '1,537', '2,615', '57', '254', '4,463'],\n",
       " ['GLADES', '2,385', '3,100', '164', '1,016', '6,665'],\n",
       " ['LIBERTY', '733', '3,392', '25', '349', '4,499'],\n",
       " ['UNION', '3,031', '3,481', '133', '639', '7,284'],\n",
       " ['GILCHRIST', '6,156', '3,568', '313', '1,439', '11,476'],\n",
       " ['HOLMES', '6,025', '4,041', '120', '1,144', '11,330'],\n",
       " ['FRANKLIN', '2,294', '4,171', '147', '817', '7,429'],\n",
       " ['GULF', '4,662', '4,334', '181', '1,067', '10,244'],\n",
       " ['HARDEE', '5,025', '4,680', '236', '1,793', '11,734'],\n",
       " ['DIXIE', '3,685', '4,711', '231', '1,326', '9,953'],\n",
       " ['HAMILTON', '2,306', '4,777', '164', '846', '8,093'],\n",
       " ['CALHOUN', '2,281', '5,405', '87', '843', '8,616'],\n",
       " ['WASHINGTON', '7,629', '5,592', '233', '1,806', '15,260'],\n",
       " ['JEFFERSON', '2,738', '5,714', '176', '846', '9,474'],\n",
       " ['BAKER', '7,857', '5,925', '182', '1,463', '15,427'],\n",
       " ['BRADFORD', '7,220', '6,298', '252', '2,041', '15,811'],\n",
       " ['TAYLOR', '4,275', '6,940', '248', '934', '12,397'],\n",
       " ['MADISON', '3,264', '7,174', '208', '1,034', '11,680'],\n",
       " ['DESOTO', '5,134', '7,487', '241', '3,151', '16,013'],\n",
       " ['OKEECHOBEE', '8,498', '7,705', '631', '3,394', '20,228'],\n",
       " ['HENDRY', '6,181', '8,240', '303', '2,910', '17,634'],\n",
       " ['WAKULLA', '7,920', '8,765', '573', '2,845', '20,103'],\n",
       " ['LEVY', '12,315', '9,453', '1,287', '3,855', '26,910'],\n",
       " ['WALTON', '27,630', '9,809', '897', '8,599', '46,935'],\n",
       " ['SUWANNEE', '11,417', '10,900', '1,046', '3,156', '26,519'],\n",
       " ['NASSAU', '35,486', '13,918', '1,983', '10,373', '61,760'],\n",
       " ['COLUMBIA', '16,693', '14,549', '920', '5,921', '38,083'],\n",
       " ['JACKSON', '10,153', '15,790', '335', '2,771', '29,049'],\n",
       " ['MONROE', '21,378', '18,137', '1,482', '14,697', '55,694'],\n",
       " ['HIGHLANDS', '28,149', '20,336', '1,718', '12,031', '62,234'],\n",
       " ['PUTNAM', '18,162', '20,428', '974', '8,279', '47,843'],\n",
       " ['GADSDEN', '4,490', '22,428', '307', '2,364', '29,589'],\n",
       " ['SUMTER', '49,317', '23,600', '3,048', '16,954', '92,919'],\n",
       " ['FLAGLER', '31,822', '25,371', '1,882', '20,821', '79,896'],\n",
       " ['SANTA ROSA', '77,044', '26,508', '4,333', '24,376', '132,261'],\n",
       " ['OKALOOSA', '79,511', '26,645', '2,873', '28,547', '137,576'],\n",
       " ['MARTIN', '55,653', '28,099', '5,304', '22,534', '111,590'],\n",
       " ['INDIAN RIVER', '49,991', '29,339', '3,419', '24,706', '107,455'],\n",
       " ['CITRUS', '49,473', '30,550', '3,520', '23,247', '106,790'],\n",
       " ['BAY', '61,528', '31,876', '2,658', '23,064', '119,126'],\n",
       " ['CLAY', '80,223', '32,018', '3,897', '30,801', '146,939'],\n",
       " ['CHARLOTTE', '56,973', '36,307', '5,441', '30,801', '129,522'],\n",
       " ['ST. JOHNS', '92,728', '41,098', '5,232', '35,958', '175,016'],\n",
       " ['HERNANDO', '53,575', '43,289', '4,844', '30,127', '131,835'],\n",
       " ['COLLIER', '104,443', '48,866', '4,722', '47,925', '205,956'],\n",
       " ['LAKE', '98,232', '70,288', '7,542', '48,598', '224,660'],\n",
       " ['MANATEE', '101,132', '71,677', '5,622', '54,147', '232,578'],\n",
       " ['ESCAMBIA', '94,699', '73,093', '5,468', '38,395', '211,655'],\n",
       " ['MARION', '100,642', '76,499', '8,354', '41,024', '226,519'],\n",
       " ['ST. LUCIE', '62,369', '77,848', '6,417', '46,393', '193,027'],\n",
       " ['ALACHUA', '50,399', '85,479', '4,153', '39,069', '179,100'],\n",
       " ['OSCEOLA', '47,516', '87,357', '4,020', '60,774', '199,667'],\n",
       " ['SARASOTA', '130,430', '92,983', '9,489', '71,373', '304,275'],\n",
       " ['SEMINOLE', '111,553', '98,566', '7,445', '75,054', '292,618'],\n",
       " ['PASCO', '132,000', '108,330', '15,354', '84,110', '339,794'],\n",
       " ['LEON', '57,820', '110,270', '4,663', '35,771', '208,524'],\n",
       " ['LEE', '187,671', '118,407', '10,850', '113,504', '430,432'],\n",
       " ['VOLUSIA', '128,948', '129,528', '11,895', '96,269', '366,640'],\n",
       " ['BREVARD', '174,589', '131,818', '14,903', '94,440', '415,750'],\n",
       " ['POLK', '146,593', '150,048', '11,787', '100,897', '409,325'],\n",
       " ['PINELLAS', '228,757', '228,571', '23,447', '158,616', '639,391'],\n",
       " ['DUVAL', '220,834', '241,220', '17,065', '111,504', '590,623'],\n",
       " ['ORANGE', '214,948', '336,042', '17,357', '220,258', '788,605'],\n",
       " ['HILLSBOROUGH', '268,349', '336,990', '23,730', '224,453', '853,522'],\n",
       " ['PALM BEACH', '256,047', '385,417', '31,451', '233,487', '906,402'],\n",
       " ['MIAMI-DADE', '374,671', '594,171', '20,342', '407,697', '1,396,881'],\n",
       " ['BROWARD', '258,088', '603,674', '18,907', '311,218', '1,191,887']]"
      ]
     },
     "execution_count": 375,
     "metadata": {},
     "output_type": "execute_result"
    }
   ],
   "source": [
    "sortedcleardata"
   ]
  },
  {
   "cell_type": "code",
   "execution_count": 376,
   "metadata": {},
   "outputs": [
    {
     "name": "stdout",
     "output_type": "stream",
     "text": [
      "LAFAYETTE   1537  2615  57  254  4463\n",
      "GLADES   2385  3100  164  1016  6665\n",
      "LIBERTY   733  3392  25  349  4499\n",
      "UNION   3031  3481  133  639  7284\n",
      "GILCHRIST   6156  3568  313  1439  11476\n",
      "HOLMES   6025  4041  120  1144  11330\n",
      "FRANKLIN   2294  4171  147  817  7429\n",
      "GULF   4662  4334  181  1067  10244\n",
      "HARDEE   5025  4680  236  1793  11734\n",
      "DIXIE   3685  4711  231  1326  9953\n",
      "HAMILTON   2306  4777  164  846  8093\n",
      "CALHOUN   2281  5405  87  843  8616\n",
      "WASHINGTON   7629  5592  233  1806  15260\n",
      "JEFFERSON   2738  5714  176  846  9474\n",
      "BAKER   7857  5925  182  1463  15427\n",
      "BRADFORD   7220  6298  252  2041  15811\n",
      "TAYLOR   4275  6940  248  934  12397\n",
      "MADISON   3264  7174  208  1034  11680\n",
      "DESOTO   5134  7487  241  3151  16013\n",
      "OKEECHOBEE   8498  7705  631  3394  20228\n",
      "HENDRY   6181  8240  303  2910  17634\n",
      "WAKULLA   7920  8765  573  2845  20103\n",
      "LEVY   12315  9453  1287  3855  26910\n",
      "WALTON   27630  9809  897  8599  46935\n",
      "SUWANNEE   11417  10900  1046  3156  26519\n",
      "NASSAU   35486  13918  1983  10373  61760\n",
      "COLUMBIA   16693  14549  920  5921  38083\n",
      "JACKSON   10153  15790  335  2771  29049\n",
      "MONROE   21378  18137  1482  14697  55694\n",
      "HIGHLANDS   28149  20336  1718  12031  62234\n",
      "PUTNAM   18162  20428  974  8279  47843\n",
      "GADSDEN   4490  22428  307  2364  29589\n",
      "SUMTER   49317  23600  3048  16954  92919\n",
      "FLAGLER   31822  25371  1882  20821  79896\n",
      "SANTA ROSA   77044  26508  4333  24376  132261\n",
      "OKALOOSA   79511  26645  2873  28547  137576\n",
      "MARTIN   55653  28099  5304  22534  111590\n",
      "INDIAN RIVER   49991  29339  3419  24706  107455\n",
      "CITRUS   49473  30550  3520  23247  106790\n",
      "BAY   61528  31876  2658  23064  119126\n",
      "CLAY   80223  32018  3897  30801  146939\n",
      "CHARLOTTE   56973  36307  5441  30801  129522\n",
      "ST. JOHNS   92728  41098  5232  35958  175016\n",
      "HERNANDO   53575  43289  4844  30127  131835\n",
      "COLLIER   104443  48866  4722  47925  205956\n",
      "LAKE   98232  70288  7542  48598  224660\n",
      "MANATEE   101132  71677  5622  54147  232578\n",
      "ESCAMBIA   94699  73093  5468  38395  211655\n",
      "MARION   100642  76499  8354  41024  226519\n",
      "ST. LUCIE   62369  77848  6417  46393  193027\n",
      "ALACHUA   50399  85479  4153  39069  179100\n",
      "OSCEOLA   47516  87357  4020  60774  199667\n",
      "SARASOTA   130430  92983  9489  71373  304275\n",
      "SEMINOLE   111553  98566  7445  75054  292618\n",
      "PASCO   132000  108330  15354  84110  339794\n",
      "LEON   57820  110270  4663  35771  208524\n",
      "LEE   187671  118407  10850  113504  430432\n",
      "VOLUSIA   128948  129528  11895  96269  366640\n",
      "BREVARD   174589  131818  14903  94440  415750\n",
      "POLK   146593  150048  11787  100897  409325\n",
      "PINELLAS   228757  228571  23447  158616  639391\n",
      "DUVAL   220834  241220  17065  111504  590623\n",
      "ORANGE   214948  336042  17357  220258  788605\n",
      "HILLSBOROUGH   268349  336990  23730  224453  853522\n",
      "PALM BEACH   256047  385417  31451  233487  906402\n",
      "MIAMI-DADE   374671  594171  20342  407697  1396881\n",
      "BROWARD   258088  603674  18907  311218  1191887\n"
     ]
    }
   ],
   "source": [
    "for i in sortedlm:\n",
    "    string=str(i)[3:-1]\n",
    "    purestr=string.replace(',',' ')\n",
    "    purestr=purestr.replace(\"'\",' ')\n",
    "    print purestr"
   ]
  },
  {
   "cell_type": "code",
   "execution_count": null,
   "metadata": {
    "collapsed": true
   },
   "outputs": [],
   "source": []
  }
 ],
 "metadata": {
  "anaconda-cloud": {},
  "kernelspec": {
   "display_name": "Python [conda root]",
   "language": "python",
   "name": "conda-root-py"
  },
  "language_info": {
   "codemirror_mode": {
    "name": "ipython",
    "version": 2
   },
   "file_extension": ".py",
   "mimetype": "text/x-python",
   "name": "python",
   "nbconvert_exporter": "python",
   "pygments_lexer": "ipython2",
   "version": "2.7.13"
  }
 },
 "nbformat": 4,
 "nbformat_minor": 1
}
