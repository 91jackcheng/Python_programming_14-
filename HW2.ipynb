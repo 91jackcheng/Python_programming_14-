{
 "cells": [
  {
   "cell_type": "markdown",
   "metadata": {},
   "source": [
    "# Homework 2: Daxi Cheng, Jushira Thelakkat, Shirley Zhu"
   ]
  },
  {
   "cell_type": "code",
   "execution_count": 1,
   "metadata": {},
   "outputs": [
    {
     "name": "stdout",
     "output_type": "stream",
     "text": [
      "Populating the interactive namespace from numpy and matplotlib\n"
     ]
    }
   ],
   "source": [
    "from pandas import Series, DataFrame\n",
    "import pandas as pd\n",
    "%pylab inline\n",
    "df = pd.read_csv(\"NYC_Restaurants.csv\", dtype=unicode, encoding='utf-8')"
   ]
  },
  {
   "cell_type": "markdown",
   "metadata": {},
   "source": [
    "**Q1. Create a unique name for each restaurant.**\n",
    "\n",
    "- Create a new column 'RESTAURANT' by combining the fields 'DBA', 'BUILDING', 'STREET', and 'ZIPCODE'"
   ]
  },
  {
   "cell_type": "code",
   "execution_count": 2,
   "metadata": {},
   "outputs": [
    {
     "data": {
      "text/plain": [
       "0                    WENDY'S 469 FLATBUSH AVENUE 11225\n",
       "1                    WENDY'S 469 FLATBUSH AVENUE 11225\n",
       "2                    WENDY'S 469 FLATBUSH AVENUE 11225\n",
       "3                    WENDY'S 469 FLATBUSH AVENUE 11225\n",
       "4                    WENDY'S 469 FLATBUSH AVENUE 11225\n",
       "5               TOV KOSHER KITCHEN 97-22 63 ROAD 11374\n",
       "6               TOV KOSHER KITCHEN 97-22 63 ROAD 11374\n",
       "7               TOV KOSHER KITCHEN 97-22 63 ROAD 11374\n",
       "8               TOV KOSHER KITCHEN 97-22 63 ROAD 11374\n",
       "9    BRUNOS ON THE BOULEVARD 8825 ASTORIA BOULEVARD...\n",
       "Name: RESTAURANT, dtype: object"
      ]
     },
     "execution_count": 2,
     "metadata": {},
     "output_type": "execute_result"
    }
   ],
   "source": [
    "df['RESTAURANT'] = df['DBA'] + ' ' + df['BUILDING'] + ' ' + df['STREET'] + ' ' + df['ZIPCODE']\n",
    "df['RESTAURANT'][:10]"
   ]
  },
  {
   "cell_type": "markdown",
   "metadata": {},
   "source": [
    "**Q2. How many restaurants are included in the data?**\n",
    "\n",
    "- Remove duplicates in the 'RESTAURANT' field and count the number of rows"
   ]
  },
  {
   "cell_type": "code",
   "execution_count": 18,
   "metadata": {},
   "outputs": [
    {
     "name": "stdout",
     "output_type": "stream",
     "text": [
      "Unique Restaurant Count: 10114\n"
     ]
    }
   ],
   "source": [
    "restaurant_dedup = df.drop_duplicates(subset='RESTAURANT')\n",
    "#print \"Overall Count:\", df['RESTAURANT'].count()\n",
    "print \"Unique Restaurant Count:\", restaurant_dedup['RESTAURANT'].count()"
   ]
  },
  {
   "cell_type": "markdown",
   "metadata": {},
   "source": [
    "**Q3. How many chains are there?**\n",
    "\n",
    "- Filter for DBA and RESTAURANT, drop duplicate rows\n",
    "- Extract the DBA when there are more than 2 unique locations"
   ]
  },
  {
   "cell_type": "code",
   "execution_count": 27,
   "metadata": {
    "scrolled": true
   },
   "outputs": [
    {
     "name": "stdout",
     "output_type": "stream",
     "text": [
      "There are 368 chains.\n"
     ]
    }
   ],
   "source": [
    "restaurant_dba = df[['RESTAURANT', 'DBA']]\n",
    "restaurant_dba_dedup = restaurant_dba.drop_duplicates(subset='RESTAURANT')\n",
    "chain_mask = restaurant_dba_dedup['DBA'].value_counts() > 1\n",
    "chains = restaurant_dba_dedup['DBA'].value_counts()[chain_mask]\n",
    "num_chains = len(chains)\n",
    "print \"There are\", num_chains, \"chains.\""
   ]
  },
  {
   "cell_type": "markdown",
   "metadata": {},
   "source": [
    "**Q4. Plot a bar graph of the top 20 most popular chains.**\n",
    "\n",
    "- Plot top 20 rows with a bar graph"
   ]
  },
  {
   "cell_type": "code",
   "execution_count": 28,
   "metadata": {
    "scrolled": false
   },
   "outputs": [
    {
     "data": {
      "text/plain": [
       "<matplotlib.axes._subplots.AxesSubplot at 0x11e60c390>"
      ]
     },
     "execution_count": 28,
     "metadata": {},
     "output_type": "execute_result"
    },
    {
     "data": {
      "image/png": "[encoded data removed]",
      "text/plain": [
       "<matplotlib.figure.Figure at 0x11e60a750>"
      ]
     },
     "metadata": {},
     "output_type": "display_data"
    }
   ],
   "source": [
    "chains[:20].plot(kind='bar')"
   ]
  },
  {
   "cell_type": "markdown",
   "metadata": {},
   "source": [
    "**Q5. What fraction of all restaurants are chains?**\n",
    "\n",
    "- Divide the number of chains by the total number of unique restaurants."
   ]
  },
  {
   "cell_type": "code",
   "execution_count": 29,
   "metadata": {},
   "outputs": [
    {
     "name": "stdout",
     "output_type": "stream",
     "text": [
      "0.164722167293\n"
     ]
    }
   ],
   "source": [
    "num_restaurant = restaurant_dedup['RESTAURANT'].count()\n",
    "total_chains = chains.sum()\n",
    "fraction = float(total_chains)/num_restaurant\n",
    "print fraction"
   ]
  },
  {
   "cell_type": "markdown",
   "metadata": {},
   "source": [
    "**Q6. Plot the number of non-chain restaurants in each boro.**\n",
    "\n",
    "- Replace 'Missing' values with np.nan so that they don't count\n",
    "- Create a new dataframe restaurant_boro and drop duplicate rows\n",
    "- Set a mask for restaurants with only one location\n",
    "- Apply the mask to the dataframe and count the number of restaurants per borough\n",
    "- Plot with a bar graph"
   ]
  },
  {
   "cell_type": "code",
   "execution_count": 7,
   "metadata": {},
   "outputs": [
    {
     "name": "stderr",
     "output_type": "stream",
     "text": [
      "/Users/shirley/anaconda/lib/python2.7/site-packages/ipykernel_launcher.py:8: UserWarning: Boolean Series key will be reindexed to match DataFrame index.\n",
      "  \n"
     ]
    },
    {
     "data": {
      "text/plain": [
       "<matplotlib.axes._subplots.AxesSubplot at 0x11838e2d0>"
      ]
     },
     "execution_count": 7,
     "metadata": {},
     "output_type": "execute_result"
    },
    {
     "data": {
      "image/png": "[encoded data removed]",
      "text/plain": [
       "<matplotlib.figure.Figure at 0x10ebfa8d0>"
      ]
     },
     "metadata": {},
     "output_type": "display_data"
    }
   ],
   "source": [
    "boro_mask = df['BORO'] == 'Missing'\n",
    "df.loc[boro_mask, 'BORO'] = np.nan\n",
    "\n",
    "restaurant_boro = df[['DBA', 'BORO', 'RESTAURANT']].drop_duplicates()\n",
    "restaurant_boro.index = restaurant_boro['DBA']\n",
    "\n",
    "nonchain_mask = restaurant_dba_dedup['DBA'].value_counts() == 1\n",
    "nonchains = restaurant_boro[nonchain_mask]['BORO'].value_counts()\n",
    "nonchains.plot(kind='bar')"
   ]
  },
  {
   "cell_type": "markdown",
   "metadata": {},
   "source": [
    "**Q7. Plot the fraction of non-chain restaurants in each boro.**\n",
    "\n",
    "- Count the number of total restaurants per borough\n",
    "- Divide the number of non-chain restaurants per borough by the total number of restaurants per borough\n",
    "- Plot with a bar graph"
   ]
  },
  {
   "cell_type": "code",
   "execution_count": 8,
   "metadata": {},
   "outputs": [
    {
     "data": {
      "text/plain": [
       "<matplotlib.axes._subplots.AxesSubplot at 0x11822d7d0>"
      ]
     },
     "execution_count": 8,
     "metadata": {},
     "output_type": "execute_result"
    },
    {
     "data": {
      "image/png": "[encoded data removed]",
      "text/plain": [
       "<matplotlib.figure.Figure at 0x117f5a7d0>"
      ]
     },
     "metadata": {},
     "output_type": "display_data"
    }
   ],
   "source": [
    "numres_boro = restaurant_boro['BORO'].value_counts()\n",
    "nonchain_fraction = nonchains / numres_boro\n",
    "\n",
    "nonchain_fraction.plot(kind='bar')"
   ]
  },
  {
   "cell_type": "markdown",
   "metadata": {},
   "source": [
    "**Q8. Plot the popularity of cuisines.**\n",
    "\n",
    "- Use 'CUISINE DESCRIPTION' and 'RESTAURANT' and drop duplicate rows\n",
    "- Get the value count of each cuisine type using unique restaurants\n",
    "- Plot using a bar graph"
   ]
  },
  {
   "cell_type": "code",
   "execution_count": 9,
   "metadata": {},
   "outputs": [
    {
     "data": {
      "text/plain": [
       "<matplotlib.axes._subplots.AxesSubplot at 0x118375090>"
      ]
     },
     "execution_count": 9,
     "metadata": {},
     "output_type": "execute_result"
    },
    {
     "data": {
      "image/png": "[encoded data removed]",
      "text/plain": [
       "<matplotlib.figure.Figure at 0x11820eed0>"
      ]
     },
     "metadata": {},
     "output_type": "display_data"
    }
   ],
   "source": [
    "cuisine_restaurant = df[['CUISINE DESCRIPTION', 'RESTAURANT']].drop_duplicates()\n",
    "vc_cuisine = cuisine_restaurant['CUISINE DESCRIPTION'].value_counts()\n",
    "vc_cuisine[:20].plot(kind='bar')"
   ]
  },
  {
   "cell_type": "markdown",
   "metadata": {},
   "source": [
    "**Q9. Plot the cuisines among restaurants which never got cited for violations.**\n",
    "\n",
    "- Create a new dataframe with 'RESTAURANT', 'VIOLATION CODE', 'CUISINE DESCRIPTION'\n",
    "- Create two dataframes: where Violation Code is null, where Violation Code is not null\n",
    "- Remove duplicates and compare the two lists using a mask\n",
    "- Those that are only in the null list have not had any violations\n",
    "- Pull out the Cuisine Description for each of these restaurants and plot the top 20 cleanest cuisine types"
   ]
  },
  {
   "cell_type": "code",
   "execution_count": 31,
   "metadata": {},
   "outputs": [
    {
     "data": {
      "text/plain": [
       "<matplotlib.axes._subplots.AxesSubplot at 0x11e60a510>"
      ]
     },
     "execution_count": 31,
     "metadata": {},
     "output_type": "execute_result"
    },
    {
     "data": {
      "image/png": "[encoded data removed]",
      "text/plain": [
       "<matplotlib.figure.Figure at 0x1182dc290>"
      ]
     },
     "metadata": {},
     "output_type": "display_data"
    }
   ],
   "source": [
    "violation_restaurant_df = df[['RESTAURANT', 'VIOLATION CODE', 'CUISINE DESCRIPTION']]\n",
    "\n",
    "violations_null_mask = violation_restaurant_df['VIOLATION CODE'].isnull()\n",
    "null_restaurants = violation_restaurant_df[violations_null_mask]\n",
    "\n",
    "violations_not_mask = violation_restaurant_df['VIOLATION CODE'].notnull()\n",
    "not_restaurants = violation_restaurant_df[violations_not_mask]\n",
    "\n",
    "null_restaurants = null_restaurants.drop_duplicates(subset='RESTAURANT')\n",
    "not_restaurants = not_restaurants.drop_duplicates(subset='RESTAURANT')\n",
    "\n",
    "clean_mask = ~null_restaurants['RESTAURANT'].isin(not_restaurants['RESTAURANT'])\n",
    "\n",
    "clean_restaurants = null_restaurants[clean_mask]\n",
    "vc_clean = clean_restaurants['CUISINE DESCRIPTION'].value_counts()\n",
    "vc_clean[:20].plot(kind='bar')"
   ]
  },
  {
   "cell_type": "markdown",
   "metadata": {},
   "source": [
    "**Q10. What cuisines tend to be the “cleanest”?**\n",
    "\n",
    "- Set a mask for cuisine types with more than 20 restaurants\n",
    "- Divide the number of clean cuisine types by the total number of cuisine types\n",
    "- Print the ratios of the top 10 cleanest cuisine types"
   ]
  },
  {
   "cell_type": "code",
   "execution_count": 32,
   "metadata": {},
   "outputs": [
    {
     "name": "stdout",
     "output_type": "stream",
     "text": [
      "Soul Food                        0.090909\n",
      "Vietnamese/Cambodian/Malaysia    0.062500\n",
      "Other                            0.058252\n",
      "Soups & Sandwiches               0.047619\n",
      "Continental                      0.047619\n",
      "Barbecue                         0.047619\n",
      "Asian                            0.041096\n",
      "Chinese                          0.038251\n",
      "Greek                            0.036364\n",
      "Peruvian                         0.035714\n",
      "Name: CUISINE DESCRIPTION, dtype: float64\n"
     ]
    },
    {
     "name": "stderr",
     "output_type": "stream",
     "text": [
      "/Users/shirley/anaconda/lib/python2.7/site-packages/ipykernel_launcher.py:3: UserWarning: Boolean Series key will be reindexed to match DataFrame index.\n",
      "  This is separate from the ipykernel package so we can avoid doing imports until\n"
     ]
    }
   ],
   "source": [
    "atleast_20_mask = cuisine_restaurant['CUISINE DESCRIPTION'].value_counts() >= 20\n",
    "clean_restaurants.index = clean_restaurants['CUISINE DESCRIPTION']\n",
    "vc_clean_cuisine = clean_restaurants[atleast_20_mask]['CUISINE DESCRIPTION'].value_counts()\n",
    "clean_ratio = vc_clean_cuisine*1.0 / vc_cuisine[atleast_20_mask]\n",
    "print clean_ratio.sort_values(ascending=False)[:10].dropna()"
   ]
  },
  {
   "cell_type": "markdown",
   "metadata": {},
   "source": [
    "**Q11. What are the most common violations in each borough?**\n",
    "\n",
    "- Create a dataframe of boroughs and violations, dropping any missing values for boroughs\n",
    "- Create a crosstab of the two columns, transpose such that BORO is the row, and extract the most common violation"
   ]
  },
  {
   "cell_type": "code",
   "execution_count": 12,
   "metadata": {},
   "outputs": [
    {
     "name": "stdout",
     "output_type": "stream",
     "text": [
      "BORO\n",
      "BRONX            Non-food contact surface improperly constructe...\n",
      "BROOKLYN         Non-food contact surface improperly constructe...\n",
      "MANHATTAN        Non-food contact surface improperly constructe...\n",
      "QUEENS           Non-food contact surface improperly constructe...\n",
      "STATEN ISLAND    Non-food contact surface improperly constructe...\n",
      "dtype: object\n"
     ]
    },
    {
     "name": "stderr",
     "output_type": "stream",
     "text": [
      "/Users/shirley/anaconda/lib/python2.7/site-packages/pandas/core/reshape/pivot.py:135: FutureWarning: 'BORO' is both a column name and an index level.\n",
      "Defaulting to column but this will raise an ambiguity error in a future version\n",
      "  grouped = data.groupby(keys)\n"
     ]
    }
   ],
   "source": [
    "boro_violation_df = df[['BORO', 'VIOLATION DESCRIPTION']].dropna(axis=0)\n",
    "boro_violation_df.index = boro_violation_df['BORO']\n",
    "boro_violation = pd.crosstab(boro_violation_df['BORO'], boro_violation_df['VIOLATION DESCRIPTION'])\n",
    "boro_violation_top = boro_violation.T.idxmax()\n",
    "print boro_violation_top"
   ]
  },
  {
   "cell_type": "markdown",
   "metadata": {},
   "source": [
    "**Q12. What are the most common violations per borough, after normalizing for the relative abundance of each violation?**\n",
    "\n",
    "- Find violationFrequency, which is the total count of all violations\n",
    "- Divide counts from previous table by violationFrequency to normalize data\n",
    "- Transpose such that BORO is the row and print"
   ]
  },
  {
   "cell_type": "code",
   "execution_count": 13,
   "metadata": {},
   "outputs": [
    {
     "name": "stdout",
     "output_type": "stream",
     "text": [
      "BORO\n",
      "BRONX                                  Unprotected food re-served.\n",
      "BROOKLYN         Precooked potentially hazardous food from comm...\n",
      "MANHATTAN        Out-of package sale of tobacco products observed.\n",
      "QUEENS           Caloric content range (minimum to maximum) not...\n",
      "STATEN ISLAND    Eggs found dirty/cracked; liquid, frozen or po...\n",
      "dtype: object\n"
     ]
    }
   ],
   "source": [
    "violationFrequency = boro_violation_df['VIOLATION DESCRIPTION'].value_counts()\n",
    "normalize_table = boro_violation / violationFrequency\n",
    "normalize_table_top = normalize_table.T.idxmax()\n",
    "print normalize_table_top"
   ]
  },
  {
   "cell_type": "markdown",
   "metadata": {},
   "source": [
    "**Q13. How many phone area codes correspond to a single zipcode?**\n",
    "\n",
    "- Create a dataframe with 'PHONE' and 'ZIPCODE'\n",
    "- Define a function to return the area code of a phone number\n",
    "- Using 'ZIPCODE' and 'AREA CODE', drop duplicate rows\n",
    "- Create a crosstab for 'ZIPCODE' and 'AREA CODE'\n",
    "- Extract number of rows where Area Code to ZipCode is 1:1"
   ]
  },
  {
   "cell_type": "code",
   "execution_count": 14,
   "metadata": {},
   "outputs": [
    {
     "name": "stderr",
     "output_type": "stream",
     "text": [
      "/Users/shirley/anaconda/lib/python2.7/site-packages/ipykernel_launcher.py:6: SettingWithCopyWarning: \n",
      "A value is trying to be set on a copy of a slice from a DataFrame.\n",
      "Try using .loc[row_indexer,col_indexer] = value instead\n",
      "\n",
      "See the caveats in the documentation: http://pandas.pydata.org/pandas-docs/stable/indexing.html#indexing-view-versus-copy\n",
      "  \n"
     ]
    },
    {
     "data": {
      "text/plain": [
       "34"
      ]
     },
     "execution_count": 14,
     "metadata": {},
     "output_type": "execute_result"
    }
   ],
   "source": [
    "phone_zipcode = df[['PHONE', 'ZIPCODE']]\n",
    "\n",
    "def getAreaCode(s):\n",
    "    return str(s)[:3]\n",
    "\n",
    "phone_zipcode['AREA CODE'] = phone_zipcode['PHONE'].apply(getAreaCode)\n",
    "phone_zipcode = phone_zipcode[['ZIPCODE', 'AREA CODE']].drop_duplicates()\n",
    "phone_zipcode_ct = pd.crosstab(phone_zipcode['ZIPCODE'], phone_zipcode['AREA CODE'], margins=True).T\n",
    "areacode_mask = phone_zipcode_ct['All']==1\n",
    "len(phone_zipcode_ct[areacode_mask].index)"
   ]
  },
  {
   "cell_type": "markdown",
   "metadata": {},
   "source": [
    "**Q14. Find common misspellings of street names**\n",
    "\n",
    "- Define functions to grab the 'STREET TYPE' and 'STREET BASE'\n",
    "- Add the columns for 'STREET TYPE', 'STREET BASE', and 'STREET BASE & ZIP'\n",
    "- Drop the duplicate rows and set a mask for missing 'STREET BASE' values\n",
    "- Merge the dataframe on itself on 'STREET BASE & ZIP' to get misspelling for the same street bases\n",
    "- Create a crosstab for the two different 'STREET TYPE' values\n",
    "- Extract the \"idxmax\" or max value/most commonly spelled street types for the given misspellings"
   ]
  },
  {
   "cell_type": "code",
   "execution_count": 15,
   "metadata": {},
   "outputs": [
    {
     "name": "stdout",
     "output_type": "stream",
     "text": [
      "STREET TYPE_y\n",
      "AVE         AVENUE\n",
      "ST          STREET\n",
      "RD            ROAD\n",
      "PL           PLACE\n",
      "BOULEARD      BLVD\n",
      "BULEVARD      BLVD\n",
      "dtype: object\n"
     ]
    }
   ],
   "source": [
    "def getStreetType(s):\n",
    "    words = s.split()\n",
    "    return words[-1]\n",
    "\n",
    "def getStreetBase(s):\n",
    "    words = s.split()\n",
    "    s = s.replace(words[-1],'')\n",
    "    return s\n",
    "\n",
    "df['STREET TYPE'] = df['STREET'].apply(getStreetType)\n",
    "df['STREET BASE'] = df['STREET'].apply(getStreetBase)\n",
    "df['STREET BASE & ZIP'] = df['STREET BASE'] + ' ' + df['ZIPCODE']\n",
    "\n",
    "street_zip_df = df[['STREET TYPE', 'STREET BASE', 'STREET BASE & ZIP']]\n",
    "street_zip_df = street_zip_df.drop_duplicates()\n",
    "na_mask = street_zip_df['STREET BASE'] == ''\n",
    "street_zip_df = street_zip_df[~na_mask]\n",
    "\n",
    "street_zip_df = pd.merge(street_zip_df, street_zip_df, on='STREET BASE & ZIP')\n",
    "\n",
    "samestreet_mask = street_zip_df['STREET TYPE_x'] != street_zip_df['STREET TYPE_y']\n",
    "diff_street_type = street_zip_df[samestreet_mask]\n",
    "\n",
    "street_types = pd.crosstab(diff_street_type['STREET TYPE_x'], diff_street_type['STREET TYPE_y'])\n",
    "\n",
    "misspellings = street_types[['AVE', 'ST', 'RD', 'PL', 'BOULEARD', 'BULEVARD']].idxmax()\n",
    "print misspellings"
   ]
  }
 ],
 "metadata": {
  "kernelspec": {
   "display_name": "Python 2",
   "language": "python",
   "name": "python2"
  },
  "language_info": {
   "codemirror_mode": {
    "name": "ipython",
    "version": 2
   },
   "file_extension": ".py",
   "mimetype": "text/x-python",
   "name": "python",
   "nbconvert_exporter": "python",
   "pygments_lexer": "ipython2",
   "version": "2.7.13"
  }
 },
 "nbformat": 4,
 "nbformat_minor": 2
}
