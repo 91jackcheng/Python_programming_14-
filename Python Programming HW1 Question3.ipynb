{
 "cells": [
  {
   "cell_type": "markdown",
   "metadata": {},
   "source": [
    "# Problem 3:  The Google of Quotes"
   ]
  },
  {
   "cell_type": "markdown",
   "metadata": {},
   "source": [
    "### To solve this problem. We build up several function to create list and dictionary required and to get the TF-IDF number of list of words at the end. \n",
    "#### Group members: Daxi Cheng, Tomas Fernandez, McKenna Karnes, Lufang Liu, Charvi Mittal (Group# 14)"
   ]
  },
  {
   "cell_type": "code",
   "execution_count": 1,
   "metadata": {
    "collapsed": true
   },
   "outputs": [],
   "source": [
    "import math\n",
    "import re\n",
    "# Opening the file\n",
    "fp = open('quotes.txt', 'r')\n",
    "text=fp.readlines()"
   ]
  },
  {
   "cell_type": "code",
   "execution_count": 2,
   "metadata": {
    "collapsed": true
   },
   "outputs": [],
   "source": [
    "\n",
    "def build_list(s):\n",
    "    '''This function is uesd to build up a list of quote together with the author'''\n",
    "    new_list=[]\n",
    "    i=0\n",
    "    while i<len(s)-1:\n",
    "        aux=str(s[i]+' - '+s[i+1])\n",
    "        aux=aux.replace('\\r\\n','')  #delate all structural expressions\n",
    "        new_list.append(aux)\n",
    "        i+=2\n",
    "    return new_list\n",
    "answera=build_list(text)            #That is the answer of question a "
   ]
  },
  {
   "cell_type": "code",
   "execution_count": 3,
   "metadata": {
    "collapsed": true
   },
   "outputs": [],
   "source": [
    "def subname(s):                     \n",
    "    '''Use this function to subtract the author's name since this should not be included into TFIDF'''\n",
    "    s=s.split('-')\n",
    "    s=s[0:-1]\n",
    "    s=str(s)[2:-2]\n",
    "    return s\n",
    "\n",
    "def get_words(quote):\n",
    "    '''Use this function to get words from a quote as a list.\n",
    "    First split the words with \\s(space) and then use regular expression to get number and words out\n",
    "    and then append them to the list'''\n",
    "    quote=quote.lower()\n",
    "    quote=subname(quote)\n",
    "    ans=re.split('\\s',quote)\n",
    "    reans=[]\n",
    "    for i in ans:\n",
    "        if i!='-' and i!='':\n",
    "            aux=re.findall('[a-z0-9_]+',i) \n",
    "            if len(aux)>0:\n",
    "                reans.append(str(aux)[2:-2])\n",
    "    return reans                      #That is the answer for question b"
   ]
  },
  {
   "cell_type": "code",
   "execution_count": 4,
   "metadata": {
    "collapsed": true
   },
   "outputs": [],
   "source": [
    "def count(l1):\n",
    "    '''Use this function to get the frequency of each word in the given list and build up a list of that'''\n",
    "    wordcount={}\n",
    "    for i in l1:\n",
    "        count=l1.count(i)\n",
    "        wordcount[i]=count\n",
    "    return wordcount\n",
    "            \n",
    "        "
   ]
  },
  {
   "cell_type": "code",
   "execution_count": 5,
   "metadata": {},
   "outputs": [
    {
     "data": {
      "text/plain": [
       "'assign the value fot the key as the question require'"
      ]
     },
     "execution_count": 5,
     "metadata": {},
     "output_type": "execute_result"
    }
   ],
   "source": [
    "word_count_dict={}\n",
    "for i in answera:\n",
    "    word_count_dict[i]=count(get_words(i))\n",
    "#that is the answer for question c\n",
    "\n",
    "rev_dict={} #build up the empty list that will be build into answer for question c\n",
    "for i in answera:\n",
    "    for key in word_count_dict[i]:\n",
    "        rev_dict[key]={}    \n",
    "'''for each key build up a empty dictionary sothat we can assigh the keys and numbers for this dictionary later'''\n",
    "for i in answera:\n",
    "    for key in word_count_dict[i]:\n",
    "        rev_dict[key][i]=str(word_count_dict[i][key])\n",
    "'''assign the value fot the key as the question require'''\n",
    "#get the rev_dict as the answer for question d   "
   ]
  },
  {
   "cell_type": "code",
   "execution_count": 6,
   "metadata": {
    "collapsed": true
   },
   "outputs": [],
   "source": [
    "def get_tf(w,s):\n",
    "    '''use this function to get the term frequency of a word in a quota'''\n",
    "    word_count=rev_dict[w][s] #get the number of the words appears in the quote\n",
    "    sorted_list=sorted(word_count_dict[s].items(),key=lambda item:item[1])   #sort the dictionary items with its values\n",
    "    max_word=sorted_list[-1][0]                #get the most frequent word\n",
    "    max_word_count=rev_dict[max_word][s]\n",
    "    return int(word_count)*1.0/int(max_word_count)     #get the TF of the word as the answer of question e"
   ]
  },
  {
   "cell_type": "code",
   "execution_count": 7,
   "metadata": {
    "collapsed": true
   },
   "outputs": [],
   "source": [
    "def get_idf(w):\n",
    "    '''use this function to get the inverse document frequency of a word'''\n",
    "    rel_doc=len(rev_dict[w])\n",
    "    total_doc=len(answera)         #use the lenth of the list as in question a as total quote number\n",
    "    idf=math.log(total_doc*1.0/rel_doc)\n",
    "    return idf                  #get the IDF as answer of question e"
   ]
  },
  {
   "cell_type": "code",
   "execution_count": 8,
   "metadata": {
    "collapsed": true
   },
   "outputs": [],
   "source": [
    "def get_tf_idf(w,s):\n",
    "    '''use this function to get the TFIDF of a word in a certain quote'''\n",
    "    tf=get_tf(w,s)\n",
    "    idf=get_idf(w)\n",
    "    tf_idf=tf*idf\n",
    "    return tf_idf   #calculate the TFIDF of a word in a quote as answer of question e"
   ]
  },
  {
   "cell_type": "code",
   "execution_count": 9,
   "metadata": {
    "collapsed": true
   },
   "outputs": [],
   "source": [
    "def get_sentence_tfidf(w):\n",
    "    '''use this function to get the dictionary in which sentence that contains certain word as keys \n",
    "    and the value is the TFIDF value'''\n",
    "    s_tfidf_dict={}\n",
    "    for i in rev_dict[w].keys():\n",
    "        s_tfidf_dict[i]=get_tf_idf(w,i)\n",
    "    return s_tfidf_dict #this is the anwswer for question f"
   ]
  },
  {
   "cell_type": "code",
   "execution_count": 10,
   "metadata": {
    "collapsed": true
   },
   "outputs": [],
   "source": [
    "def get_sum_sentence_tfidf(wlist):\n",
    "    '''use this function to get the dictionary of all the quotes that contain the word as key and \n",
    "    all words'TFIDF as value with in a cirtain word list'''  \n",
    "    sum_sentence_tfidf={}\n",
    "    for i in wlist:\n",
    "        total_tfidf=0\n",
    "        for j in rev_dict[i].keys():\n",
    "            total_tfidf+=get_tf_idf(i,j)\n",
    "            sum_sentence_tfidf[j]=total_tfidf\n",
    "    return sum_sentence_tfidf\n",
    "    #This is the answer of question g\n",
    "    "
   ]
  },
  {
   "cell_type": "markdown",
   "metadata": {},
   "source": [
    "# Now is the test part to see if all of these functions work."
   ]
  },
  {
   "cell_type": "markdown",
   "metadata": {},
   "source": [
    "## test for question a"
   ]
  },
  {
   "cell_type": "code",
   "execution_count": 11,
   "metadata": {},
   "outputs": [
    {
     "data": {
      "text/plain": [
       "['How we spend our days is, of course, how we spend our lives. - Annie Dillard',\n",
       " 'Two roads diverged in a wood, and I...I took the one less traveled by, and that has made all the difference. - Robert Frost',\n",
       " 'What is happiness? The feeling that power is growing, that resistance is overcome. - Friedrich Nietzsche',\n",
       " 'A great deal of intelligence can be invested in ignorance when the need for illusion is deep. - Saul Bellow',\n",
       " 'Those who are preoccupied with `making a statement` usually don`t have any statements worth making. - Thomas Sowell']"
      ]
     },
     "execution_count": 11,
     "metadata": {},
     "output_type": "execute_result"
    }
   ],
   "source": [
    "answera[0:5]        #get first five items of answera list "
   ]
  },
  {
   "cell_type": "markdown",
   "metadata": {},
   "source": [
    "## test for question b"
   ]
  },
  {
   "cell_type": "code",
   "execution_count": 12,
   "metadata": {},
   "outputs": [
    {
     "data": {
      "text/plain": [
       "['how',\n",
       " 'we',\n",
       " 'spend',\n",
       " 'our',\n",
       " 'days',\n",
       " 'is',\n",
       " 'of',\n",
       " 'course',\n",
       " 'how',\n",
       " 'we',\n",
       " 'spend',\n",
       " 'our',\n",
       " 'lives']"
      ]
     },
     "execution_count": 12,
     "metadata": {},
     "output_type": "execute_result"
    }
   ],
   "source": [
    "test='How we spend our days is, of course, how we spend our lives. - Annie Dillard'\n",
    "get_words(test)"
   ]
  },
  {
   "cell_type": "markdown",
   "metadata": {},
   "source": [
    "## test for question c"
   ]
  },
  {
   "cell_type": "code",
   "execution_count": 13,
   "metadata": {},
   "outputs": [
    {
     "data": {
      "text/plain": [
       "{'course': 1,\n",
       " 'days': 1,\n",
       " 'how': 2,\n",
       " 'is': 1,\n",
       " 'lives': 1,\n",
       " 'of': 1,\n",
       " 'our': 2,\n",
       " 'spend': 2,\n",
       " 'we': 2}"
      ]
     },
     "execution_count": 13,
     "metadata": {},
     "output_type": "execute_result"
    }
   ],
   "source": [
    "word_count_dict['How we spend our days is, of course, how we spend our lives. - Annie Dillard']"
   ]
  },
  {
   "cell_type": "markdown",
   "metadata": {},
   "source": [
    "## test for question d"
   ]
  },
  {
   "cell_type": "code",
   "execution_count": 14,
   "metadata": {},
   "outputs": [
    {
     "data": {
      "text/plain": [
       "{'Every decent man is ashamed of the government he lives under. - Henry Mencken': '1',\n",
       " 'How we spend our days is, of course, how we spend our lives. - Annie Dillard': '1',\n",
       " 'I hope that when you are my age, you will be able to say as I have been able to say: We lived in freedom. We lived lives that were a statement, not an apology. - Ronald Reagan': '1',\n",
       " 'In the long run, we shape our lives and we shape ourselves. The process never ends until we die, and the choices that we make are ultimately our responsibility. - Eleanor Roosevelt': '1',\n",
       " 'Indeed, man wishes to be happy even when he so lives as to make happiness impossible. - Saint Augustine': '1',\n",
       " 'One of the striking differences between a cat and a lie is that a cat has only nine lives. - Mark Twain': '1',\n",
       " 'Those who bring sunshine to the lives of others, cannot keep it from themselves. - James Matthew Barrie': '1',\n",
       " 'When an American says that he loves his country, he means not only that he loves the New England hills, the prairies glistening in the sun, the wide and rising plains, the great mountains, and the sea. He means that he loves an inner air, an inner light in which freedom lives and in which a man can draw the breath of self-respect. - Adlai Stevenson': '1'}"
      ]
     },
     "execution_count": 14,
     "metadata": {},
     "output_type": "execute_result"
    }
   ],
   "source": [
    "rev_dict['lives']"
   ]
  },
  {
   "cell_type": "markdown",
   "metadata": {},
   "source": [
    "## test for question e"
   ]
  },
  {
   "cell_type": "code",
   "execution_count": 15,
   "metadata": {},
   "outputs": [
    {
     "data": {
      "text/plain": [
       "2.3536377044626224"
      ]
     },
     "execution_count": 15,
     "metadata": {},
     "output_type": "execute_result"
    }
   ],
   "source": [
    "get_tf_idf('lives',test)"
   ]
  },
  {
   "cell_type": "markdown",
   "metadata": {},
   "source": [
    "## test for question f"
   ]
  },
  {
   "cell_type": "code",
   "execution_count": 16,
   "metadata": {},
   "outputs": [
    {
     "data": {
      "text/plain": [
       "{'Every decent man is ashamed of the government he lives under. - Henry Mencken': 4.707275408925245,\n",
       " 'How we spend our days is, of course, how we spend our lives. - Annie Dillard': 2.3536377044626224,\n",
       " 'I hope that when you are my age, you will be able to say as I have been able to say: We lived in freedom. We lived lives that were a statement, not an apology. - Ronald Reagan': 2.3536377044626224,\n",
       " 'In the long run, we shape our lives and we shape ourselves. The process never ends until we die, and the choices that we make are ultimately our responsibility. - Eleanor Roosevelt': 1.1768188522313112,\n",
       " 'Indeed, man wishes to be happy even when he so lives as to make happiness impossible. - Saint Augustine': 2.3536377044626224,\n",
       " 'One of the striking differences between a cat and a lie is that a cat has only nine lives. - Mark Twain': 1.5690918029750816,\n",
       " 'Those who bring sunshine to the lives of others, cannot keep it from themselves. - James Matthew Barrie': 4.707275408925245,\n",
       " 'When an American says that he loves his country, he means not only that he loves the New England hills, the prairies glistening in the sun, the wide and rising plains, the great mountains, and the sea. He means that he loves an inner air, an inner light in which freedom lives and in which a man can draw the breath of self-respect. - Adlai Stevenson': 0.6724679155607493}"
      ]
     },
     "execution_count": 16,
     "metadata": {},
     "output_type": "execute_result"
    }
   ],
   "source": [
    "get_sentence_tfidf('lives')"
   ]
  },
  {
   "cell_type": "markdown",
   "metadata": {},
   "source": [
    "## test for question g"
   ]
  },
  {
   "cell_type": "code",
   "execution_count": 17,
   "metadata": {},
   "outputs": [
    {
     "data": {
      "text/plain": [
       "{'Every decent man is ashamed of the government he lives under. - Henry Mencken': 4.707275408925245,\n",
       " 'How we spend our days is, of course, how we spend our lives. - Annie Dillard': 10.47929168415501,\n",
       " 'I hope that when you are my age, you will be able to say as I have been able to say: We lived in freedom. We lived lives that were a statement, not an apology. - Ronald Reagan': 12.832929388617632,\n",
       " 'In the long run, we shape our lives and we shape ourselves. The process never ends until we die, and the choices that we make are ultimately our responsibility. - Eleanor Roosevelt': 7.453186064131637,\n",
       " 'Indeed, man wishes to be happy even when he so lives as to make happiness impossible. - Saint Augustine': 15.186567093080255,\n",
       " 'One of the striking differences between a cat and a lie is that a cat has only nine lives. - Mark Twain': 6.276367211900326,\n",
       " 'Those who bring sunshine to the lives of others, cannot keep it from themselves. - James Matthew Barrie': 8.124759693393514,\n",
       " 'What sunshine is to flowers, smiles are to humanity. These are but trifles, to be sure; but scattered along life`s pathway, the good they do is inconceivable. - Joseph Addison': 2.0311899233483786,\n",
       " 'When an American says that he loves his country, he means not only that he loves the New England hills, the prairies glistening in the sun, the wide and rising plains, the great mountains, and the sea. He means that he loves an inner air, an inner light in which freedom lives and in which a man can draw the breath of self-respect. - Adlai Stevenson': 8.125653979692387}"
      ]
     },
     "execution_count": 17,
     "metadata": {},
     "output_type": "execute_result"
    }
   ],
   "source": [
    "get_sum_sentence_tfidf(['lives','sunshine'])"
   ]
  }
 ],
 "metadata": {
  "anaconda-cloud": {},
  "kernelspec": {
   "display_name": "Python [conda root]",
   "language": "python",
   "name": "conda-root-py"
  },
  "language_info": {
   "codemirror_mode": {
    "name": "ipython",
    "version": 2
   },
   "file_extension": ".py",
   "mimetype": "text/x-python",
   "name": "python",
   "nbconvert_exporter": "python",
   "pygments_lexer": "ipython2",
   "version": "2.7.13"
  }
 },
 "nbformat": 4,
 "nbformat_minor": 1
}
