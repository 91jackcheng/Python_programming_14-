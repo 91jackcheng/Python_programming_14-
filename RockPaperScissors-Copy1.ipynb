{
 "cells": [
  {
   "cell_type": "code",
   "execution_count": null,
   "metadata": {},
   "outputs": [
    {
     "name": "stdout",
     "output_type": "stream",
     "text": [
      "Enter your move:rock\n",
      "Computer wins!\n",
      "Enter your move:rock\n",
      "Computer wins!\n",
      "Enter your move:rock\n",
      "Computer wins!\n",
      "Enter your move:rock\n",
      "Computer wins!\n",
      "Enter your move:rock\n",
      "Computer wins!\n"
     ]
    }
   ],
   "source": [
    "from random import randint\n",
    "def rock_paper_scissors():  \n",
    "    player = []\n",
    "    numgames = -1\n",
    "    playerwins = 0\n",
    "    rock = 0\n",
    "    paper = 0\n",
    "    scissors = 0\n",
    "    while player != 'quit':\n",
    "        optihttp://localhost:8891/notebooks/RockPaperScissors-Copy1.ipynb#ons = ['rock','paper','scissors']\n",
    "        player= raw_input(\"Enter your move:\")\n",
    "        if (player == 'rock' or player == 'paper' or player == 'scissors' or player == 'quit'):\n",
    "            numgames += 1\n",
    "            if (rock == 0 and paper == 0 and scissors == 0):\n",
    "                computer = options[randint(0,2)]\n",
    "            elif (rock > paper and rock > scissors):\n",
    "                computer = options[1]\n",
    "            elif(paper > rock and paper > scissors):\n",
    "                computer = options[2]\n",
    "            elif(scissors > rock and scissors > paper):\n",
    "                computer = options[0]\n",
    "            elif(rock == paper and rock > scissors):\n",
    "                computer = options[1]\n",
    "            elif(rock == scissors and rock > paper):\n",
    "                computer = options[0]\n",
    "            elif(scissors == paper and scissors > rock):\n",
    "                computer = options[2]\n",
    "            else:\n",
    "                computer = options[randint(0,2)]\n",
    "            if (player == computer):\n",
    "                print \"It's a tie\"\n",
    "            elif (player == 'rock'):\n",
    "                rock += 1\n",
    "                if (computer == 'paper'):\n",
    "                    print \"Computer wins!\"\n",
    "                else:\n",
    "                    print \"You win!\"\n",
    "                    playerwins += 1\n",
    "            elif (player == 'paper'):\n",
    "                paper += 1\n",
    "                if (computer == 'rock'):\n",
    "                    print \"Computer wins!\"\n",
    "                else:\n",
    "                    print \"You win!\"\n",
    "                    playerwins += 1\n",
    "            elif (player == 'scissors'):\n",
    "                scissors += 1\n",
    "                if (computer == 'rock'):\n",
    "                    print \"Computer wins!\"\n",
    "                else:\n",
    "                    print \"You win!\"\n",
    "                    playerwins += 1\n",
    "        else:\n",
    "            player = raw_input(\"Invalid entry, please enter 'rock', 'paper', or 'scissors'\")       \n",
    "    print \"Thanks for playing, you played\", numgames, \"and won\", playerwins\n",
    "rock_paper_scissors()"
   ]
  },
  {
   "cell_type": "code",
   "execution_count": null,
   "metadata": {
    "collapsed": true
   },
   "outputs": [],
   "source": []
  },
  {
   "cell_type": "raw",
   "metadata": {},
   "source": []
  },
  {
   "cell_type": "code",
   "execution_count": null,
   "metadata": {
    "collapsed": true
   },
   "outputs": [],
   "source": []
  },
  {
   "cell_type": "code",
   "execution_count": null,
   "metadata": {
    "collapsed": true
   },
   "outputs": [],
   "source": []
  }
 ],
 "metadata": {
  "kernelspec": {
   "display_name": "Python 2",
   "language": "python",
   "name": "python2"
  },
  "language_info": {
   "codemirror_mode": {
    "name": "ipython",
    "version": 2
   },
   "file_extension": ".py",
   "mimetype": "text/x-python",
   "name": "python",
   "nbconvert_exporter": "python",
   "pygments_lexer": "ipython2",
   "version": "2.7.13"
  }
 },
 "nbformat": 4,
 "nbformat_minor": 2
}
