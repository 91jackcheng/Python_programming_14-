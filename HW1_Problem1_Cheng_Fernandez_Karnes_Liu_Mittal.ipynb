{
 "cells": [
  {
   "cell_type": "markdown",
   "metadata": {},
   "source": [
    "#     Problem 1: Rock, Paper, Scissors\n",
    "\n",
    "###     In my approach, two functions, 'computer_choice( )' and 'round_result( )', are created in order to simulate \n",
    "###     the two key components of the game process, which are the algorithm based on which the \n",
    "###     computer makes a choice and the algorithm based on which the game outcome is \n",
    "###    decided. \n",
    "\n",
    "###    Group members: Daxi Cheng, Tomas Fernandez, McKenna Karnes, Lufang Liu, Charvi Mittal (Group# 14)"
   ]
  },
  {
   "cell_type": "code",
   "execution_count": null,
   "metadata": {},
   "outputs": [
    {
     "name": "stdout",
     "output_type": "stream",
     "text": [
      "Please enter your choice: rock, paper, scissors, or quit: rock\n",
      "Tie Game\n",
      "Please enter your choice: rock, paper, scissors, or quit: rock\n",
      "Computer Wins\n",
      "Please enter your choice: rock, paper, scissors, or quit: paper\n",
      "Tie Game\n",
      "Please enter your choice: rock, paper, scissors, or quit: scissors\n",
      "Human Wins\n",
      "Please enter your choice: rock, paper, scissors, or quit: quit\n",
      "Thank you for playing! 4 games played and 1 times the human won.\n",
      "Please enter your choice: rock, paper, scissors, or quit: abc\n",
      "Invalid Choice. Please choose 'rock', 'paper', 'scissors', or 'quit': \n",
      "Please enter your choice: rock, paper, scissors, or quit: paper\n",
      "Tie Game\n"
     ]
    }
   ],
   "source": [
    "def computer_choice():\n",
    "    \n",
    "    \"\"\"This function automatically takes inputs from the 'rounds_data{} dictionary to decide which choice \n",
    "       the computer is going to pick. It then returns the choice which the computer makes\"\"\"\n",
    "\n",
    "    global rounds_data\n",
    "    \n",
    "    global choices\n",
    "    \n",
    "    if rounds_data['rock']== rounds_data['paper']== rounds_data['scissors']:\n",
    "        return random.choice(choices)\n",
    "    \n",
    "    if rounds_data['rock'] > rounds_data['paper']and rounds_data['rock'] > rounds_data['scissors']:\n",
    "        return 'paper'\n",
    "    \n",
    "    if rounds_data['paper'] > rounds_data['rock']and rounds_data['paper'] > rounds_data['scissors']:\n",
    "        return 'scissors'\n",
    "    \n",
    "    if rounds_data['scissors'] > rounds_data['rock']and rounds_data['scissors'] > rounds_data['paper']:\n",
    "        return 'rock'\n",
    "    \n",
    "    if rounds_data['rock'] == rounds_data['paper']:\n",
    "        return 'paper'\n",
    "        \n",
    "    if rounds_data['paper'] == rounds_data['scissors']:\n",
    "        return 'scissors'\n",
    "    \n",
    "    if rounds_data['rock'] == rounds_data['scissors']:\n",
    "        return 'rock'\n",
    "\n",
    "def round_result(human_choice,computer_choice):\n",
    "    \n",
    "    \"\"\" This function takes inputs from the choice made by the human player and by the computer. After comparing\n",
    "        these two inputs, it then does three things: 1. prints the game outcome; 2. records the choice made by\n",
    "        human player; 3. updates the total number of games actually played(excluding rounds in which the human\n",
    "        quits)\"\"\"\n",
    "    \n",
    "    global human_won\n",
    "    \n",
    "    global rounds_data\n",
    "    \n",
    "    global rounds\n",
    "    \n",
    "    if human_choice == 'rock':\n",
    "        if computer_choice == 'rock':\n",
    "            print 'Tie Game'\n",
    "        elif computer_choice == 'paper':\n",
    "            print 'Computer Wins'\n",
    "        else:\n",
    "            print 'Human Wins'\n",
    "            human_won+=1\n",
    "        rounds_data['rock'] +=1\n",
    "        rounds +=1   \n",
    "        \n",
    "    if human_choice == 'paper':\n",
    "        if computer_choice == 'rock':\n",
    "            print 'Human Wins'\n",
    "            human_won+=1\n",
    "        elif computer_choice == 'paper':\n",
    "            print 'Tie Game'\n",
    "        else:\n",
    "            print 'Computer Wins'\n",
    "        rounds_data['paper'] +=1\n",
    "        rounds +=1 \n",
    "        \n",
    "    if human_choice == 'scissors':\n",
    "        if computer_choice == 'rock':\n",
    "            print 'Computer Wins'\n",
    "        elif computer_choice == 'paper':\n",
    "            print 'Human Wins'\n",
    "            human_won+=1\n",
    "        else:\n",
    "            print 'Tie Game'\n",
    "        rounds_data['scissors'] +=1\n",
    "        rounds +=1\n",
    "        \n",
    "    if human_choice == 'quit':\n",
    "        print \"Thank you for playing!\",rounds,\"games played and\",human_won,\"times the human won.\"\n",
    "\n",
    "import random\n",
    "\n",
    "choices = ['rock','paper','scissors']\n",
    "\n",
    "rounds = 0\n",
    "\n",
    "human_won = 0\n",
    "\n",
    "rounds_data = {'rock':0,'paper':0,'scissors':0} \n",
    "\n",
    "while True: \n",
    "    \n",
    "    human_choice=raw_input(\"Please enter your choice: rock, paper, scissors, or quit: \").lower()\n",
    "    \n",
    "    while human_choice not in choices and human_choice != 'quit':\n",
    "        \n",
    "        print \"Invalid Choice. Please choose 'rock', 'paper', 'scissors', or 'quit': \"\n",
    "        break\n",
    "        \n",
    "    else:\n",
    "        round_result(human_choice ,computer_choice())\n",
    "        "
   ]
  },
  {
   "cell_type": "code",
   "execution_count": null,
   "metadata": {
    "collapsed": true
   },
   "outputs": [],
   "source": []
  },
  {
   "cell_type": "code",
   "execution_count": null,
   "metadata": {
    "collapsed": true
   },
   "outputs": [],
   "source": []
  },
  {
   "cell_type": "code",
   "execution_count": null,
   "metadata": {
    "collapsed": true
   },
   "outputs": [],
   "source": []
  },
  {
   "cell_type": "code",
   "execution_count": null,
   "metadata": {
    "collapsed": true
   },
   "outputs": [],
   "source": []
  },
  {
   "cell_type": "code",
   "execution_count": null,
   "metadata": {
    "collapsed": true
   },
   "outputs": [],
   "source": []
  },
  {
   "cell_type": "code",
   "execution_count": null,
   "metadata": {
    "collapsed": true
   },
   "outputs": [],
   "source": []
  },
  {
   "cell_type": "code",
   "execution_count": null,
   "metadata": {
    "collapsed": true
   },
   "outputs": [],
   "source": []
  },
  {
   "cell_type": "code",
   "execution_count": null,
   "metadata": {
    "collapsed": true
   },
   "outputs": [],
   "source": []
  },
  {
   "cell_type": "code",
   "execution_count": null,
   "metadata": {
    "collapsed": true
   },
   "outputs": [],
   "source": []
  },
  {
   "cell_type": "code",
   "execution_count": null,
   "metadata": {
    "collapsed": true
   },
   "outputs": [],
   "source": []
  },
  {
   "cell_type": "code",
   "execution_count": null,
   "metadata": {
    "collapsed": true
   },
   "outputs": [],
   "source": []
  }
 ],
 "metadata": {
  "kernelspec": {
   "display_name": "Python 2",
   "language": "python",
   "name": "python2"
  },
  "language_info": {
   "codemirror_mode": {
    "name": "ipython",
    "version": 2
   },
   "file_extension": ".py",
   "mimetype": "text/x-python",
   "name": "python",
   "nbconvert_exporter": "python",
   "pygments_lexer": "ipython2",
   "version": "2.7.13"
  }
 },
 "nbformat": 4,
 "nbformat_minor": 2
}
