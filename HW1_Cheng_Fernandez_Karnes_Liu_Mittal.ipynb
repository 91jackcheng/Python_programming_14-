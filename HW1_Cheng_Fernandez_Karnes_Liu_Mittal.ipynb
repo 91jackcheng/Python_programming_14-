{
 "cells": [
  {
   "cell_type": "markdown",
   "metadata": {},
   "source": [
    "# Problem 1: Rock, Paper, Scissors"
   ]
  },
  {
   "cell_type": "markdown",
   "metadata": {},
   "source": [
    "#### In this game, the player selects one input out of \"rock\", \"paper\", or \"scissors\" and the computer tracks the frequency of inputs in order to make an informed selection to optimize computer wins. The function, \"rock_paper_scissors\", takes player input and evaluates whether the round is a win, tie, or loss. The function, \"human bias\", tracks user bias so that the computer gets smarter as games go on."
   ]
  },
  {
   "cell_type": "markdown",
   "metadata": {},
   "source": [
    "##### Group members: Daxi Cheng, Tomas Fernandez, McKenna Karnes, Lufang Liu, Charvi Mittal (Group# 14)"
   ]
  },
  {
   "cell_type": "code",
   "execution_count": 2,
   "metadata": {
    "collapsed": true
   },
   "outputs": [],
   "source": [
    "#import randint function from random\n",
    "from random import randint\n",
    "\n",
    "#initializes number of times player has chosen rock,paper, or scissors to zero\n",
    "rock = 0         \n",
    "paper = 0            \n",
    "scissors = 0\n",
    "\n",
    "#stores a list of move options\n",
    "options = ['rock','paper','scissors']  \n",
    "\n",
    "#function for playing a game of rock,paper,scissors\n",
    "def rock_paper_scissors(): \n",
    "    \"\"\"This function takes input from the player, calls the human_bias function to select the computer's move,\n",
    "    and then determines who has won the round based off of the player and computer selections.\"\"\"\n",
    "    player = []  #initializes player choice\n",
    "    numgames = -1    #tracks number of rounds: -1 to account for 'quit' round\n",
    "    playerwins = 0    #tracks number of wins for player\n",
    "    \n",
    "    #allows the function access to rock, paper, and scissors variables\n",
    "    global rock\n",
    "    global paper\n",
    "    global scissors\n",
    "    \n",
    "    #starts game loop while the player does not wish to quit\n",
    "    while player != 'quit':\n",
    "        player= raw_input(\"Enter your move:\")  #asks for and stores player move\n",
    "        player = player.lower()                #converts player entry to all lower case\n",
    "        #if-statement checking for valid entries \n",
    "        if (player == 'rock' or player == 'paper' or player == 'scissors' or player == 'quit'):\n",
    "            numgames += 1    #tracks number of games played-including ties\n",
    "            \n",
    "            #calls the human_bias function to determine what the computer move should be\n",
    "            #and assigns that to the computer variable\n",
    "            computer = human_bias(player)\n",
    "            #if-else statement to determine if the round is a computer win, player win, or a tie\n",
    "            #updates the number of rock, paper, and scissors played\n",
    "            if (player == computer):\n",
    "                print \"It's a tie\"\n",
    "                if player == 'rock':\n",
    "                    rock+=1\n",
    "                elif player == 'paper': \n",
    "                    paper += 1 \n",
    "                elif player == 'scissors': \n",
    "                    scissors+=1 \n",
    "                else:\n",
    "                    scissors = scissors\n",
    "            elif (player == 'rock'):\n",
    "                rock += 1\n",
    "                if (computer == 'paper'):\n",
    "                    print \"Computer wins!\"\n",
    "                else:\n",
    "                    print \"You win!\"\n",
    "                    playerwins += 1\n",
    "            elif (player == 'paper'):\n",
    "                paper += 1\n",
    "                if (computer == 'rock'):\n",
    "                    print \"You win!\"\n",
    "                    playerwins += 1\n",
    "                else:\n",
    "                    print \"Computer wins!\"\n",
    "            elif (player == 'scissors'):\n",
    "                scissors += 1\n",
    "                if (computer == 'rock'):\n",
    "                    print \"Computer wins!\"\n",
    "                else:\n",
    "                    print \"You win!\"\n",
    "                    playerwins += 1\n",
    "        #accounts for invalid entries- the start of the while loop will prompt the player for next move\n",
    "        else:\n",
    "            print \"\\nInvalid entry, please enter 'rock', 'paper', 'scissors', or 'quit'\" \n",
    "    #when player decides to quit, displays the number of games played and number of player wins\n",
    "    print \"\\nThanks for playing, you played\", numgames, \"games and won\", playerwins, \"games!\"\n",
    "\n",
    "\n",
    "#function for tracking human bias\n",
    "def human_bias(player):\n",
    "    \"\"\"This function uses the tracked frequency of the player's choice of \n",
    "    rock, paper, or scissors to make an informed decision on what the computer should play next.\"\"\"\n",
    "    #computer starts with no human information, so chooses rock, paper, or scissors at random\n",
    "    if (rock == 0 and paper == 0 and scissors == 0):\n",
    "        computer = options[randint(0,2)]\n",
    "    elif (rock > paper and rock > scissors):\n",
    "        computer = options[1]\n",
    "    elif(paper > rock and paper > scissors):\n",
    "        computer = options[2]\n",
    "    elif(scissors > rock and scissors > paper):\n",
    "        computer = options[0]\n",
    "    #when player has chosen 2 moves the same number of times, computer chooses the move \n",
    "    #that will either result in a tie or a win, rather than a tie or a loss\n",
    "    elif(rock == paper and rock > scissors):\n",
    "        computer = options[1]\n",
    "    elif(rock == scissors and rock > paper):\n",
    "        computer = options[0]\n",
    "    elif(scissors == paper and scissors > rock):\n",
    "        computer = options[2]\n",
    "    else:\n",
    "        computer = options[randint(0,2)]\n",
    "    return computer    #returns computer's move"
   ]
  },
  {
   "cell_type": "code",
   "execution_count": 3,
   "metadata": {},
   "outputs": [
    {
     "name": "stdout",
     "output_type": "stream",
     "text": [
      "Enter your move:rock\n",
      "You win!\n",
      "Enter your move:paper\n",
      "It's a tie\n",
      "Enter your move:scissors\n",
      "You win!\n",
      "Enter your move:scissor\n",
      "\n",
      "Invalid entry, please enter 'rock', 'paper', 'scissors', or 'quit'\n",
      "Enter your move:rock\n",
      "It's a tie\n",
      "Enter your move:paper\n",
      "It's a tie\n",
      "Enter your move:paper\n",
      "It's a tie\n",
      "Enter your move:rock\n",
      "You win!\n",
      "Enter your move:rock\n",
      "Computer wins!\n",
      "Enter your move:scissors\n",
      "You win!\n",
      "Enter your move:scissors\n",
      "You win!\n",
      "Enter your move:scissors\n",
      "You win!\n",
      "Enter your move:scissors\n",
      "Computer wins!\n",
      "Enter your move:quit\n",
      "\n",
      "Thanks for playing, you played 12 games and won 6 games!\n"
     ]
    }
   ],
   "source": [
    "rock_paper_scissors()"
   ]
  },
  {
   "cell_type": "code",
   "execution_count": 4,
   "metadata": {},
   "outputs": [
    {
     "name": "stdout",
     "output_type": "stream",
     "text": [
      "Help on function rock_paper_scissors in module __main__:\n",
      "\n",
      "rock_paper_scissors()\n",
      "    This function takes input from the player, calls the human_bias function to select the computer's move,\n",
      "    and then determines who has won the round based off of the player and computer selections.\n",
      "\n"
     ]
    }
   ],
   "source": [
    "help(rock_paper_scissors)"
   ]
  },
  {
   "cell_type": "markdown",
   "metadata": {},
   "source": [
    "# Problem 2: Voters in Florida"
   ]
  },
  {
   "cell_type": "markdown",
   "metadata": {},
   "source": [
    "#### Here, data for different county names along with it's republic and democratic voters was extracted from a HTML file. Voter data was then converted to numeric format and sorted on the basis of democratic voters. Function find_data() was used to find county names by looking for a specific pattern within the file."
   ]
  },
  {
   "cell_type": "markdown",
   "metadata": {},
   "source": [
    "##### Group members: Daxi Cheng, Tomas Fernandez, McKenna Karnes, Lufang Liu, Charvi Mittal (Group# 14) "
   ]
  },
  {
   "cell_type": "code",
   "execution_count": 5,
   "metadata": {},
   "outputs": [],
   "source": [
    "##### Initializations\n",
    "\n",
    "import re #### library import\n",
    "fp = open('FloridaVoters.html','r') ### reads the HTML file\n",
    "line = fp.readline() ### to read firstline of the file\n",
    "final_data = []"
   ]
  },
  {
   "cell_type": "code",
   "execution_count": 6,
   "metadata": {
    "collapsed": true
   },
   "outputs": [],
   "source": [
    "#### Function definition\n",
    "def find_data(s):\n",
    "    \"\"\" This function is used to find instances in the HTML file where county name is.\n",
    "    It returns empty list wherever string does not match given pattern\"\"\"\n",
    "    return re.findall('<td>[A-Z][A-Z][A-Z]',s)"
   ]
  },
  {
   "cell_type": "code",
   "execution_count": 7,
   "metadata": {
    "collapsed": true
   },
   "outputs": [],
   "source": [
    "#### This loops through entire file to find countyname along with republic and democratic voters. It then strips them to obtain data\n",
    "### in required format\n",
    "\n",
    "while line is not '':\n",
    "    ### function call to find line with county name\n",
    "    req_line = find_data(line)\n",
    "    ### condition to go to line with county name\n",
    "    if req_line != []:\n",
    "       ### strips string to obtain the name\n",
    "       countyname = line.lstrip('<td>').rstrip().rstrip('</td>')\n",
    "       ### read next line to obtain republic voters \n",
    "       republicvoters = fp.readline().lstrip('<td>').rstrip().rstrip('</td>')\n",
    "       ### remove commas to convert string to number \n",
    "       republicvoters =  int(republicvoters.replace(',',''))\n",
    "       democratvoters = fp.readline().lstrip('<td>').rstrip().rstrip('</td>')\n",
    "       democratvoters =  int(democratvoters.replace(',',''))\n",
    "       #### create a list out of the obtained values and append the entire data together \n",
    "       data = (countyname, republicvoters, democratvoters)\n",
    "       final_data.append(data)\n",
    "    ### read next line\n",
    "    line = fp.readline()"
   ]
  },
  {
   "cell_type": "code",
   "execution_count": 8,
   "metadata": {},
   "outputs": [
    {
     "name": "stdout",
     "output_type": "stream",
     "text": [
      "LAFAYETTE 1373 2672\n",
      "GLADES 2190 3110\n",
      "LIBERTY 720 3372\n",
      "UNION 2752 3579\n",
      "GILCHRIST 5789 3652\n",
      "FRANKLIN 2234 4319\n",
      "HOLMES 5282 4434\n",
      "GULF 4234 4521\n",
      "HARDEE 4859 4702\n",
      "HAMILTON 2154 4796\n",
      "DIXIE 3314 4839\n",
      "CALHOUN 2201 5324\n",
      "WASHINGTON 7101 5687\n",
      "JEFFERSON 2636 5802\n",
      "BAKER 6963 5813\n",
      "BRADFORD 6878 6533\n",
      "TAYLOR 3950 6915\n",
      "MADISON 2992 7158\n",
      "DESOTO 4870 7181\n",
      "OKEECHOBEE 7755 7756\n",
      "HENDRY 5862 7999\n",
      "WAKULLA 7374 8889\n",
      "LEVY 11665 9509\n",
      "WALTON 25609 10013\n",
      "SUWANNEE 10745 11126\n",
      "NASSAU 32958 14013\n",
      "COLUMBIA 15790 14797\n",
      "JACKSON 9626 15706\n",
      "MONROE 20602 17614\n",
      "HIGHLANDS 27100 19997\n",
      "PUTNAM 17067 20606\n",
      "GADSDEN 4372 22161\n",
      "SUMTER 47158 22977\n",
      "FLAGLER 30047 24734\n",
      "OKALOOSA 75154 25172\n",
      "SANTA ROSA 73627 26114\n",
      "MARTIN 53800 27358\n",
      "INDIAN RIVER 47794 28204\n",
      "CITRUS 46373 30440\n",
      "BAY 57456 30733\n",
      "CLAY 76584 31285\n",
      "CHARLOTTE 54421 35602\n",
      "HERNANDO 51254 42499\n",
      "COLLIER 100167 45511\n",
      "LAKE 93604 67237\n",
      "MANATEE 96063 67926\n",
      "ESCAMBIA 90265 70180\n",
      "OSCEOLA 44594 75657\n",
      "MARION 97306 76268\n",
      "ALACHUA 47329 77996\n",
      "SARASOTA 125872 89711\n",
      "SEMINOLE 107833 91686\n",
      "LEON 54554 103140\n",
      "PASCO 125305 104324\n",
      "LEE 180718 114633\n",
      "VOLUSIA 121402 124136\n",
      "BREVARD 167129 127435\n",
      "POLK 140619 143799\n",
      "PINELLAS 223077 221968\n",
      "DUVAL 210195 229501\n",
      "ORANGE 206174 303458\n",
      "HILLSBOROUGH 257436 314265\n",
      "PALM BEACH 245452 367236\n",
      "MIAMI-DADE 362161 539367\n",
      "BROWARD 249762 566185\n"
     ]
    }
   ],
   "source": [
    "#### This sorts the final data on the basis of democratic voters\n",
    "sorted_data = sorted(final_data,key = lambda x: x[2])    \n",
    "\n",
    "#### This is used to print sorted data in required format\n",
    "for data in sorted_data:\n",
    "    print data[0], data[1], data[2]\n",
    "    \n",
    "### Closes the file\n",
    "fp.close()"
   ]
  },
  {
   "cell_type": "markdown",
   "metadata": {},
   "source": [
    "# Problem 3: The Google of Quotes "
   ]
  },
  {
   "cell_type": "markdown",
   "metadata": {},
   "source": [
    "#### To solve this problem. We build up several function to create list and dictionary required and to get the TF-IDF number of list of words at the end."
   ]
  },
  {
   "cell_type": "markdown",
   "metadata": {},
   "source": [
    "##### Group members: Daxi Cheng, Tomas Fernandez, McKenna Karnes, Lufang Liu, Charvi Mittal (Group# 14)"
   ]
  },
  {
   "cell_type": "code",
   "execution_count": 10,
   "metadata": {},
   "outputs": [],
   "source": [
    "import math\n",
    "import re\n",
    "# Opening the file\n",
    "fp = open('quotes.txt', 'r')\n",
    "text=fp.readlines()"
   ]
  },
  {
   "cell_type": "code",
   "execution_count": 11,
   "metadata": {
    "collapsed": true
   },
   "outputs": [],
   "source": [
    "def build_list(s):\n",
    "    '''This function is uesd to build up a list of quote together with the author'''\n",
    "    new_list=[]\n",
    "    i=0\n",
    "    while i<len(s)-1:\n",
    "        aux=str(s[i]+' - '+s[i+1])\n",
    "        aux=aux.replace('\\r\\n','')  #delate all structural expressions\n",
    "        new_list.append(aux)\n",
    "        i+=2\n",
    "    return new_list\n",
    "answera=build_list(text)            #That is the answer of question a"
   ]
  },
  {
   "cell_type": "code",
   "execution_count": 12,
   "metadata": {
    "collapsed": true
   },
   "outputs": [],
   "source": [
    "def subname(s):                     \n",
    "    '''Use this function to subtract the author's name since this should not be included into TFIDF'''\n",
    "    s=s.split('-')\n",
    "    s=s[0:-1]\n",
    "    s=str(s)[2:-2]\n",
    "    return s\n",
    "\n",
    "def get_words(quote):\n",
    "    '''Use this function to get words from a quote as a list.\n",
    "    First split the words with \\s(space) and then use regular expression to get number and words out\n",
    "    and then append them to the list'''\n",
    "    quote=quote.lower()\n",
    "    quote=subname(quote)\n",
    "    ans=re.split('\\s',quote)\n",
    "    reans=[]\n",
    "    for i in ans:\n",
    "        if i!='-' and i!='':\n",
    "            aux=re.findall('[a-z0-9_]+',i) \n",
    "            if len(aux)>0:\n",
    "                reans.append(str(aux)[2:-2])\n",
    "    return reans                      #That is the answer for question b"
   ]
  },
  {
   "cell_type": "code",
   "execution_count": 13,
   "metadata": {
    "collapsed": true
   },
   "outputs": [],
   "source": [
    "def count(l1):\n",
    "    '''Use this function to get the frequency of each word in the given list and build up a list of that'''\n",
    "    wordcount={}\n",
    "    for i in l1:\n",
    "        count=l1.count(i)\n",
    "        wordcount[i]=count\n",
    "    return wordcount"
   ]
  },
  {
   "cell_type": "code",
   "execution_count": 14,
   "metadata": {},
   "outputs": [
    {
     "data": {
      "text/plain": [
       "'assign the value fot the key as the question require'"
      ]
     },
     "execution_count": 14,
     "metadata": {},
     "output_type": "execute_result"
    }
   ],
   "source": [
    "word_count_dict={}\n",
    "for i in answera:\n",
    "    word_count_dict[i]=count(get_words(i))\n",
    "#that is the answer for question c\n",
    "\n",
    "rev_dict={} #build up the empty list that will be build into answer for question c\n",
    "for i in answera:\n",
    "    for key in word_count_dict[i]:\n",
    "        rev_dict[key]={}    \n",
    "'''for each key build up a empty dictionary sothat we can assigh the keys and numbers for this dictionary later'''\n",
    "for i in answera:\n",
    "    for key in word_count_dict[i]:\n",
    "        rev_dict[key][i]=str(word_count_dict[i][key])\n",
    "'''assign the value fot the key as the question require'''\n",
    "#get the rev_dict as the answer for question d"
   ]
  },
  {
   "cell_type": "code",
   "execution_count": 15,
   "metadata": {
    "collapsed": true
   },
   "outputs": [],
   "source": [
    "def get_tf(w,s):\n",
    "    '''use this function to get the term frequency of a word in a quota'''\n",
    "    word_count=rev_dict[w][s] #get the number of the words appears in the quote\n",
    "    sorted_list=sorted(word_count_dict[s].items(),key=lambda item:item[1])   #sort the dictionary items with its values\n",
    "    max_word=sorted_list[-1][0]                #get the most frequent word\n",
    "    max_word_count=rev_dict[max_word][s]\n",
    "    return int(word_count)*1.0/int(max_word_count)     #get the TF of the word as the answer of question e"
   ]
  },
  {
   "cell_type": "code",
   "execution_count": 16,
   "metadata": {
    "collapsed": true
   },
   "outputs": [],
   "source": [
    "def get_idf(w):\n",
    "    '''use this function to get the inverse document frequency of a word'''\n",
    "    rel_doc=len(rev_dict[w])\n",
    "    total_doc=len(answera)         #use the lenth of the list as in question a as total quote number\n",
    "    idf=math.log(total_doc*1.0/rel_doc)\n",
    "    return idf                  #get the IDF as answer of question e"
   ]
  },
  {
   "cell_type": "code",
   "execution_count": 17,
   "metadata": {
    "collapsed": true
   },
   "outputs": [],
   "source": [
    "def get_tf_idf(w,s):\n",
    "    '''use this function to get the TFIDF of a word in a certain quote'''\n",
    "    tf=get_tf(w,s)\n",
    "    idf=get_idf(w)\n",
    "    tf_idf=tf*idf\n",
    "    return tf_idf   #calculate the TFIDF of a word in a quote as answer of question e"
   ]
  },
  {
   "cell_type": "code",
   "execution_count": 18,
   "metadata": {
    "collapsed": true
   },
   "outputs": [],
   "source": [
    "def get_sentence_tfidf(w):\n",
    "    '''use this function to get the dictionary in which sentence that contains certain word as keys \n",
    "    and the value is the TFIDF value'''\n",
    "    s_tfidf_dict={}\n",
    "    for i in rev_dict[w].keys():\n",
    "        s_tfidf_dict[i]=get_tf_idf(w,i)\n",
    "    return s_tfidf_dict #this is the anwswer for question f"
   ]
  },
  {
   "cell_type": "code",
   "execution_count": 19,
   "metadata": {
    "collapsed": true
   },
   "outputs": [],
   "source": [
    "def get_sum_sentence_tfidf(wlist):\n",
    "    '''use this function to get the dictionary of all the quotes that contain the word as key and \n",
    "    all words'TFIDF as value with in a cirtain word list'''  \n",
    "    sum_sentence_tfidf={}\n",
    "    for i in wlist:\n",
    "        total_tfidf=0\n",
    "        for j in rev_dict[i].keys():\n",
    "            total_tfidf+=get_tf_idf(i,j)\n",
    "            sum_sentence_tfidf[j]=total_tfidf\n",
    "    return sum_sentence_tfidf\n",
    "    #This is the answer of question g"
   ]
  },
  {
   "cell_type": "markdown",
   "metadata": {},
   "source": [
    "## Now is the test part to see if all of these functions work."
   ]
  },
  {
   "cell_type": "markdown",
   "metadata": {},
   "source": [
    "### Test for question a "
   ]
  },
  {
   "cell_type": "code",
   "execution_count": 20,
   "metadata": {},
   "outputs": [
    {
     "data": {
      "text/plain": [
       "['How we spend our days is, of course, how we spend our lives.\\n - Annie Dillard\\n',\n",
       " 'Two roads diverged in a wood, and I...I took the one less traveled by, and that has made all the difference.\\n - Robert Frost\\n',\n",
       " 'What is happiness? The feeling that power is growing, that resistance is overcome.\\n - Friedrich Nietzsche\\n',\n",
       " 'A great deal of intelligence can be invested in ignorance when the need for illusion is deep.\\n - Saul Bellow\\n',\n",
       " 'Those who are preoccupied with `making a statement` usually don`t have any statements worth making.\\n - Thomas Sowell\\n']"
      ]
     },
     "execution_count": 20,
     "metadata": {},
     "output_type": "execute_result"
    }
   ],
   "source": [
    "answera[0:5]        #get first five items of answera list"
   ]
  },
  {
   "cell_type": "markdown",
   "metadata": {},
   "source": [
    "### Test for question b "
   ]
  },
  {
   "cell_type": "code",
   "execution_count": 21,
   "metadata": {},
   "outputs": [
    {
     "data": {
      "text/plain": [
       "['how',\n",
       " 'we',\n",
       " 'spend',\n",
       " 'our',\n",
       " 'days',\n",
       " 'is',\n",
       " 'of',\n",
       " 'course',\n",
       " 'how',\n",
       " 'we',\n",
       " 'spend',\n",
       " 'our',\n",
       " 'lives']"
      ]
     },
     "execution_count": 21,
     "metadata": {},
     "output_type": "execute_result"
    }
   ],
   "source": [
    "test='How we spend our days is, of course, how we spend our lives. - Annie Dillard'\n",
    "get_words(test)"
   ]
  },
  {
   "cell_type": "markdown",
   "metadata": {},
   "source": [
    "### Test for question c "
   ]
  },
  {
   "cell_type": "code",
   "execution_count": 24,
   "metadata": {},
   "outputs": [
    {
     "ename": "KeyError",
     "evalue": "'How we spend our days is, of course, how we spend our lives. - Annie Dillard'",
     "output_type": "error",
     "traceback": [
      "\u001b[1;31m---------------------------------------------------------------------------\u001b[0m",
      "\u001b[1;31mKeyError\u001b[0m                                  Traceback (most recent call last)",
      "\u001b[1;32m<ipython-input-24-a315c78a7e92>\u001b[0m in \u001b[0;36m<module>\u001b[1;34m()\u001b[0m\n\u001b[1;32m----> 1\u001b[1;33m \u001b[0mword_count_dict\u001b[0m\u001b[1;33m[\u001b[0m\u001b[1;34m'How we spend our days is, of course, how we spend our lives. - Annie Dillard'\u001b[0m\u001b[1;33m]\u001b[0m\u001b[1;33m\u001b[0m\u001b[0m\n\u001b[0m",
      "\u001b[1;31mKeyError\u001b[0m: 'How we spend our days is, of course, how we spend our lives. - Annie Dillard'"
     ]
    }
   ],
   "source": [
    "word_count_dict['How we spend our days is, of course, how we spend our lives. - Annie Dillard']"
   ]
  },
  {
   "cell_type": "markdown",
   "metadata": {},
   "source": [
    "### Test for question d "
   ]
  },
  {
   "cell_type": "code",
   "execution_count": 25,
   "metadata": {},
   "outputs": [
    {
     "data": {
      "text/plain": [
       "{'Every decent man is ashamed of the government he lives under.\\n - Henry Mencken\\n': '1',\n",
       " 'I hope that when you are my age, you will be able to say as I have been able to say: We lived in freedom. We lived lives that were a statement, not an apology.\\n - Ronald Reagan\\n': '1',\n",
       " 'In the long run, we shape our lives and we shape ourselves. The process never ends until we die, and the choices that we make are ultimately our responsibility.\\n - Eleanor Roosevelt\\n': '1',\n",
       " 'Indeed, man wishes to be happy even when he so lives as to make happiness impossible.\\n - Saint Augustine\\n': '1',\n",
       " 'Those who bring sunshine to the lives of others, cannot keep it from themselves.\\n - James Matthew Barrie\\n': '1',\n",
       " 'When an American says that he loves his country, he means not only that he loves the New England hills, the prairies glistening in the sun, the wide and rising plains, the great mountains, and the sea. He means that he loves an inner air, an inner light in which freedom lives and in which a man can draw the breath of self-respect.\\n - Adlai Stevenson\\n': '1'}"
      ]
     },
     "execution_count": 25,
     "metadata": {},
     "output_type": "execute_result"
    }
   ],
   "source": [
    "rev_dict['lives']"
   ]
  },
  {
   "cell_type": "markdown",
   "metadata": {},
   "source": [
    "### Test for question e"
   ]
  },
  {
   "cell_type": "code",
   "execution_count": 26,
   "metadata": {},
   "outputs": [
    {
     "ename": "KeyError",
     "evalue": "'How we spend our days is, of course, how we spend our lives. - Annie Dillard'",
     "output_type": "error",
     "traceback": [
      "\u001b[1;31m---------------------------------------------------------------------------\u001b[0m",
      "\u001b[1;31mKeyError\u001b[0m                                  Traceback (most recent call last)",
      "\u001b[1;32m<ipython-input-26-a3390a58406a>\u001b[0m in \u001b[0;36m<module>\u001b[1;34m()\u001b[0m\n\u001b[1;32m----> 1\u001b[1;33m \u001b[0mget_tf_idf\u001b[0m\u001b[1;33m(\u001b[0m\u001b[1;34m'lives'\u001b[0m\u001b[1;33m,\u001b[0m\u001b[0mtest\u001b[0m\u001b[1;33m)\u001b[0m\u001b[1;33m\u001b[0m\u001b[0m\n\u001b[0m",
      "\u001b[1;32m<ipython-input-17-65675a1bca9c>\u001b[0m in \u001b[0;36mget_tf_idf\u001b[1;34m(w, s)\u001b[0m\n\u001b[0;32m      1\u001b[0m \u001b[1;32mdef\u001b[0m \u001b[0mget_tf_idf\u001b[0m\u001b[1;33m(\u001b[0m\u001b[0mw\u001b[0m\u001b[1;33m,\u001b[0m\u001b[0ms\u001b[0m\u001b[1;33m)\u001b[0m\u001b[1;33m:\u001b[0m\u001b[1;33m\u001b[0m\u001b[0m\n\u001b[0;32m      2\u001b[0m     \u001b[1;34m'''use this function to get the TFIDF of a word in a certain quote'''\u001b[0m\u001b[1;33m\u001b[0m\u001b[0m\n\u001b[1;32m----> 3\u001b[1;33m     \u001b[0mtf\u001b[0m\u001b[1;33m=\u001b[0m\u001b[0mget_tf\u001b[0m\u001b[1;33m(\u001b[0m\u001b[0mw\u001b[0m\u001b[1;33m,\u001b[0m\u001b[0ms\u001b[0m\u001b[1;33m)\u001b[0m\u001b[1;33m\u001b[0m\u001b[0m\n\u001b[0m\u001b[0;32m      4\u001b[0m     \u001b[0midf\u001b[0m\u001b[1;33m=\u001b[0m\u001b[0mget_idf\u001b[0m\u001b[1;33m(\u001b[0m\u001b[0mw\u001b[0m\u001b[1;33m)\u001b[0m\u001b[1;33m\u001b[0m\u001b[0m\n\u001b[0;32m      5\u001b[0m     \u001b[0mtf_idf\u001b[0m\u001b[1;33m=\u001b[0m\u001b[0mtf\u001b[0m\u001b[1;33m*\u001b[0m\u001b[0midf\u001b[0m\u001b[1;33m\u001b[0m\u001b[0m\n",
      "\u001b[1;32m<ipython-input-15-c511b4c94e6c>\u001b[0m in \u001b[0;36mget_tf\u001b[1;34m(w, s)\u001b[0m\n\u001b[0;32m      1\u001b[0m \u001b[1;32mdef\u001b[0m \u001b[0mget_tf\u001b[0m\u001b[1;33m(\u001b[0m\u001b[0mw\u001b[0m\u001b[1;33m,\u001b[0m\u001b[0ms\u001b[0m\u001b[1;33m)\u001b[0m\u001b[1;33m:\u001b[0m\u001b[1;33m\u001b[0m\u001b[0m\n\u001b[0;32m      2\u001b[0m     \u001b[1;34m'''use this function to get the term frequency of a word in a quota'''\u001b[0m\u001b[1;33m\u001b[0m\u001b[0m\n\u001b[1;32m----> 3\u001b[1;33m     \u001b[0mword_count\u001b[0m\u001b[1;33m=\u001b[0m\u001b[0mrev_dict\u001b[0m\u001b[1;33m[\u001b[0m\u001b[0mw\u001b[0m\u001b[1;33m]\u001b[0m\u001b[1;33m[\u001b[0m\u001b[0ms\u001b[0m\u001b[1;33m]\u001b[0m \u001b[1;31m#get the number of the words appears in the quote\u001b[0m\u001b[1;33m\u001b[0m\u001b[0m\n\u001b[0m\u001b[0;32m      4\u001b[0m     \u001b[0msorted_list\u001b[0m\u001b[1;33m=\u001b[0m\u001b[0msorted\u001b[0m\u001b[1;33m(\u001b[0m\u001b[0mword_count_dict\u001b[0m\u001b[1;33m[\u001b[0m\u001b[0ms\u001b[0m\u001b[1;33m]\u001b[0m\u001b[1;33m.\u001b[0m\u001b[0mitems\u001b[0m\u001b[1;33m(\u001b[0m\u001b[1;33m)\u001b[0m\u001b[1;33m,\u001b[0m\u001b[0mkey\u001b[0m\u001b[1;33m=\u001b[0m\u001b[1;32mlambda\u001b[0m \u001b[0mitem\u001b[0m\u001b[1;33m:\u001b[0m\u001b[0mitem\u001b[0m\u001b[1;33m[\u001b[0m\u001b[1;36m1\u001b[0m\u001b[1;33m]\u001b[0m\u001b[1;33m)\u001b[0m   \u001b[1;31m#sort the dictionary items with its values\u001b[0m\u001b[1;33m\u001b[0m\u001b[0m\n\u001b[0;32m      5\u001b[0m     \u001b[0mmax_word\u001b[0m\u001b[1;33m=\u001b[0m\u001b[0msorted_list\u001b[0m\u001b[1;33m[\u001b[0m\u001b[1;33m-\u001b[0m\u001b[1;36m1\u001b[0m\u001b[1;33m]\u001b[0m\u001b[1;33m[\u001b[0m\u001b[1;36m0\u001b[0m\u001b[1;33m]\u001b[0m                \u001b[1;31m#get the most frequent word\u001b[0m\u001b[1;33m\u001b[0m\u001b[0m\n",
      "\u001b[1;31mKeyError\u001b[0m: 'How we spend our days is, of course, how we spend our lives. - Annie Dillard'"
     ]
    }
   ],
   "source": [
    "get_tf_idf('lives',test)"
   ]
  },
  {
   "cell_type": "markdown",
   "metadata": {},
   "source": [
    "### Test for question f "
   ]
  },
  {
   "cell_type": "code",
   "execution_count": 27,
   "metadata": {},
   "outputs": [
    {
     "data": {
      "text/plain": [
       "{'Every decent man is ashamed of the government he lives under.\\n - Henry Mencken\\n': 4.994957481377026,\n",
       " 'I hope that when you are my age, you will be able to say as I have been able to say: We lived in freedom. We lived lives that were a statement, not an apology.\\n - Ronald Reagan\\n': 2.497478740688513,\n",
       " 'In the long run, we shape our lives and we shape ourselves. The process never ends until we die, and the choices that we make are ultimately our responsibility.\\n - Eleanor Roosevelt\\n': 1.2487393703442564,\n",
       " 'Indeed, man wishes to be happy even when he so lives as to make happiness impossible.\\n - Saint Augustine\\n': 2.497478740688513,\n",
       " 'Those who bring sunshine to the lives of others, cannot keep it from themselves.\\n - James Matthew Barrie\\n': 4.994957481377026,\n",
       " 'When an American says that he loves his country, he means not only that he loves the New England hills, the prairies glistening in the sun, the wide and rising plains, the great mountains, and the sea. He means that he loves an inner air, an inner light in which freedom lives and in which a man can draw the breath of self-respect.\\n - Adlai Stevenson\\n': 0.7135653544824322}"
      ]
     },
     "execution_count": 27,
     "metadata": {},
     "output_type": "execute_result"
    }
   ],
   "source": [
    "get_sentence_tfidf('lives')"
   ]
  },
  {
   "cell_type": "markdown",
   "metadata": {},
   "source": [
    "### Test for question g "
   ]
  },
  {
   "cell_type": "code",
   "execution_count": 28,
   "metadata": {},
   "outputs": [
    {
     "data": {
      "text/plain": [
       "{'Every decent man is ashamed of the government he lives under.\\n - Henry Mencken\\n': 6.243696851721282,\n",
       " 'I hope that when you are my age, you will be able to say as I have been able to say: We lived in freedom. We lived lives that were a statement, not an apology.\\n - Ronald Reagan\\n': 11.952219687580738,\n",
       " 'In the long run, we shape our lives and we shape ourselves. The process never ends until we die, and the choices that we make are ultimately our responsibility.\\n - Eleanor Roosevelt\\n': 1.2487393703442564,\n",
       " 'Indeed, man wishes to be happy even when he so lives as to make happiness impossible.\\n - Saint Augustine\\n': 8.741175592409794,\n",
       " 'Those who bring sunshine to the lives of others, cannot keep it from themselves.\\n - James Matthew Barrie\\n': 8.124759693393514,\n",
       " 'What sunshine is to flowers, smiles are to humanity. These are but trifles, to be sure; but scattered along life`s pathway, the good they do is inconceivable.\\n - Joseph Addison\\n': 2.0311899233483786,\n",
       " 'When an American says that he loves his country, he means not only that he loves the New England hills, the prairies glistening in the sun, the wide and rising plains, the great mountains, and the sea. He means that he loves an inner air, an inner light in which freedom lives and in which a man can draw the breath of self-respect.\\n - Adlai Stevenson\\n': 9.454740946892226}"
      ]
     },
     "execution_count": 28,
     "metadata": {},
     "output_type": "execute_result"
    }
   ],
   "source": [
    "get_sum_sentence_tfidf(['lives','sunshine'])"
   ]
  }
 ],
 "metadata": {
  "kernelspec": {
   "display_name": "Python 2",
   "language": "python",
   "name": "python2"
  },
  "language_info": {
   "codemirror_mode": {
    "name": "ipython",
    "version": 2
   },
   "file_extension": ".py",
   "mimetype": "text/x-python",
   "name": "python",
   "nbconvert_exporter": "python",
   "pygments_lexer": "ipython2",
   "version": "2.7.13"
  }
 },
 "nbformat": 4,
 "nbformat_minor": 2
}
